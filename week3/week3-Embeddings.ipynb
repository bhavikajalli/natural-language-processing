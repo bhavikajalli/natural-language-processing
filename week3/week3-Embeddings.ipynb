{
 "cells": [
  {
   "cell_type": "markdown",
   "metadata": {},
   "source": [
    "# Find duplicate questions on StackOverflow by their embeddings\n",
    "\n",
    "In this assignment you will learn how to calculate a similarity for pieces of text. Using this approach you will know how to find duplicate questions from [StackOverflow](https://stackoverflow.com)."
   ]
  },
  {
   "cell_type": "markdown",
   "metadata": {},
   "source": [
    "### Libraries\n",
    "\n",
    "In this task you will you will need the following libraries:\n",
    "- [StarSpace](https://github.com/facebookresearch/StarSpace) — a general-purpose model for efficient learning of entity embeddings from Facebook\n",
    "- [Gensim](https://radimrehurek.com/gensim/) — a tool for solving various NLP-related tasks (topic modeling, text representation, ...)\n",
    "- [Numpy](http://www.numpy.org) — a package for scientific computing.\n",
    "- [scikit-learn](http://scikit-learn.org/stable/index.html) — a tool for data mining and data analysis.\n",
    "- [Nltk](http://www.nltk.org) — a platform to work with human language data."
   ]
  },
  {
   "cell_type": "markdown",
   "metadata": {},
   "source": [
    "### Data\n",
    "\n",
    "The following cell will download all data required for this assignment into the folder `week3/data`."
   ]
  },
  {
   "cell_type": "code",
   "execution_count": 1,
   "metadata": {},
   "outputs": [
    {
     "name": "stdout",
     "output_type": "stream",
     "text": [
      "File data/train.tsv is already downloaded.\n",
      "File data/validation.tsv is already downloaded.\n",
      "File data/test.tsv is already downloaded.\n",
      "File data/test_embeddings.tsv is already downloaded.\n"
     ]
    }
   ],
   "source": [
    "import sys\n",
    "sys.path.append(\"..\")\n",
    "from common.download_utils import download_week3_resources\n",
    "\n",
    "download_week3_resources()"
   ]
  },
  {
   "cell_type": "markdown",
   "metadata": {},
   "source": [
    "### Grading\n",
    "We will create a grader instace below and use it to collect your answers. Note that these outputs will be stored locally inside grader and will be uploaded to platform only after running submiting function in the last part of this assignment. If you want to make partial submission, you can run that cell any time you want."
   ]
  },
  {
   "cell_type": "code",
   "execution_count": 2,
   "metadata": {},
   "outputs": [],
   "source": [
    "from grader import Grader"
   ]
  },
  {
   "cell_type": "code",
   "execution_count": 3,
   "metadata": {},
   "outputs": [],
   "source": [
    "grader = Grader()"
   ]
  },
  {
   "cell_type": "markdown",
   "metadata": {},
   "source": [
    "## Word embedding\n",
    "\n",
    "To solve the problem, you will use two different models of embeddings:\n",
    "\n",
    " - [Pre-trained word vectors](https://code.google.com/archive/p/word2vec/) from Google which were trained on a part of Google News dataset (about 100 billion words). The model contains 300-dimensional vectors for 3 million words and phrases. You need to download it by following this [link](https://drive.google.com/file/d/0B7XkCwpI5KDYNlNUTTlSS21pQmM/edit?usp=sharing).\n",
    " - Representations using StarSpace on StackOverflow data sample. You will need to train them from scratch."
   ]
  },
  {
   "cell_type": "markdown",
   "metadata": {},
   "source": [
    "It's always easier to start with pre-trained embeddings. Unpack the pre-trained Goggle's vectors and upload them using the function [KeyedVectors.load_word2vec_format](https://radimrehurek.com/gensim/models/keyedvectors.html) from gensim library with the parameter *binary=True*. If the size of the embeddings is larger than the avaliable memory, you could load only a part of the embeddings by defining the parameter *limit* (recommended: 500000)."
   ]
  },
  {
   "cell_type": "code",
   "execution_count": 10,
   "metadata": {},
   "outputs": [],
   "source": [
    "import gensim\n",
    "import numpy as np"
   ]
  },
  {
   "cell_type": "code",
   "execution_count": 5,
   "metadata": {},
   "outputs": [],
   "source": [
    "wv_embeddings = gensim.models.KeyedVectors.load_word2vec_format('data/GoogleNews-vectors-negative300.bin.gz', binary=True)######### YOUR CODE HERE #############"
   ]
  },
  {
   "cell_type": "markdown",
   "metadata": {},
   "source": [
    "### How to work with Google's word2vec embeddings?\n",
    "\n",
    "Once you have loaded the representations, make sure you can access them. First, you can check if the loaded embeddings contain a word:\n",
    "    \n",
    "    'word' in wv_embeddings\n",
    "    \n",
    "Second, to get the corresponding embedding you can use the square brackets:\n",
    "\n",
    "    wv_embeddings['word']\n",
    " \n",
    "### Checking that the embeddings are correct \n",
    " \n",
    "To prevent any errors during the first stage, we can check that the loaded embeddings are correct. You can call the function *check_embeddings*, implemented below, which runs 3 tests:\n",
    "1. Find the most similar word for provided \"positive\" and \"negative\" words.\n",
    "2. Find which word from the given list doesn’t go with the others.\n",
    "3. Find the most similar word for the provided one.\n",
    "\n",
    "In the right case the function will return the string *These embeddings look good*. Othervise, you need to validate the previous steps."
   ]
  },
  {
   "cell_type": "code",
   "execution_count": 6,
   "metadata": {},
   "outputs": [],
   "source": [
    "def check_embeddings(embeddings):\n",
    "    error_text = \"Something wrong with your embeddings ('%s test isn't correct).\"\n",
    "    most_similar = embeddings.most_similar(positive=['woman', 'king'], negative=['man'])\n",
    "    if len(most_similar) < 1 or most_similar[0][0] != 'queen':\n",
    "        return error_text % \"Most similar\"\n",
    "\n",
    "    doesnt_match = embeddings.doesnt_match(['breakfast', 'cereal', 'dinner', 'lunch'])\n",
    "    if doesnt_match != 'cereal':\n",
    "        return error_text % \"Doesn't match\"\n",
    "    \n",
    "    most_similar_to_given = embeddings.most_similar_to_given('music', ['water', 'sound', 'backpack', 'mouse'])\n",
    "    if most_similar_to_given != 'sound':\n",
    "        return error_text % \"Most similar to given\"\n",
    "    \n",
    "    return \"These embeddings look good.\""
   ]
  },
  {
   "cell_type": "code",
   "execution_count": 7,
   "metadata": {},
   "outputs": [
    {
     "name": "stdout",
     "output_type": "stream",
     "text": [
      "These embeddings look good.\n"
     ]
    }
   ],
   "source": [
    "print(check_embeddings(wv_embeddings))"
   ]
  },
  {
   "cell_type": "code",
   "execution_count": 8,
   "metadata": {},
   "outputs": [
    {
     "name": "stdout",
     "output_type": "stream",
     "text": [
      "sound\n",
      "cereal\n"
     ]
    }
   ],
   "source": [
    "print(wv_embeddings.most_similar_to_given('music', ['water', 'sound', 'backpack', 'mouse']))\n",
    "print(wv_embeddings.doesnt_match(['breakfast', 'cereal', 'dinner', 'lunch']))\n"
   ]
  },
  {
   "cell_type": "code",
   "execution_count": 11,
   "metadata": {},
   "outputs": [
    {
     "data": {
      "text/plain": [
       "(300,)"
      ]
     },
     "execution_count": 11,
     "metadata": {},
     "output_type": "execute_result"
    }
   ],
   "source": [
    "wv_embeddings['word'].shape\n",
    "np.zeros((300,)).shape"
   ]
  },
  {
   "cell_type": "markdown",
   "metadata": {},
   "source": [
    "## From word to text embeddings\n",
    "\n",
    "**Task 1 (Question2Vec).** Usually, we have word-based embeddings, but for the task we need to create a representation for the whole question. It could be done in different ways. In our case we will use a **mean** of all word vectors in the question. Now you need to implement the function *question_to_vec*, which calculates the question representation described above. This function should work with the input text as is without any preprocessing.\n",
    "\n",
    "Note that there could be words without the corresponding embeddings. In this case, you can just skip these words and don't take them into account during calculating the result. If the question doesn't contain any known word with embedding, the function should return a zero vector."
   ]
  },
  {
   "cell_type": "code",
   "execution_count": 12,
   "metadata": {},
   "outputs": [],
   "source": [
    "import numpy as np"
   ]
  },
  {
   "cell_type": "code",
   "execution_count": 68,
   "metadata": {},
   "outputs": [],
   "source": [
    "def question_to_vec(question, embeddings, dim=300):\n",
    "    \"\"\"\n",
    "        question: a string\n",
    "        embeddings: dict where the key is a word and a value is its' embedding\n",
    "        dim: size of the representation\n",
    "\n",
    "        result: vector representation for the question\n",
    "    \"\"\"\n",
    "    ######################################\n",
    "    ######### YOUR CODE HERE #############\n",
    "    sentence_embedding = np.zeros((dim,))\n",
    "    if question == \"\":\n",
    "        return sentence_embedding\n",
    "    count = 0\n",
    "    words = question.split(\" \")\n",
    "    for word in words:\n",
    "        if word in embeddings:\n",
    "            sentence_embedding += embeddings[word]\n",
    "            count +=1\n",
    "    if count >1:\n",
    "        sentence_embedding = sentence_embedding / count\n",
    "    return sentence_embedding\n",
    "    ######################################"
   ]
  },
  {
   "cell_type": "markdown",
   "metadata": {},
   "source": [
    "To check the basic correctness of your implementation, run the function *question_to_vec_tests*."
   ]
  },
  {
   "cell_type": "code",
   "execution_count": 69,
   "metadata": {},
   "outputs": [],
   "source": [
    "def question_to_vec_tests():\n",
    "    if (np.zeros(300) != question_to_vec('', wv_embeddings)).any():\n",
    "        return \"You need to return zero vector for empty question.\"\n",
    "    if (np.zeros(300) != question_to_vec('thereisnosuchword', wv_embeddings)).any():\n",
    "        return \"You need to return zero vector for the question, which consists only unknown words.\"\n",
    "    if (wv_embeddings['word'] != question_to_vec('word', wv_embeddings)).any():\n",
    "        return \"You need to check the corectness of your function.\"\n",
    "    if ((wv_embeddings['I'] + wv_embeddings['am']) / 2 != question_to_vec('I am', wv_embeddings)).any():\n",
    "        return \"Your function should calculate a mean of word vectors.\"\n",
    "    if (wv_embeddings['word'] != question_to_vec('thereisnosuchword word', wv_embeddings)).any():\n",
    "        return \"You should not consider words which embeddings are unknown.\"\n",
    "    return \"Basic tests are passed.\""
   ]
  },
  {
   "cell_type": "code",
   "execution_count": 70,
   "metadata": {},
   "outputs": [
    {
     "name": "stdout",
     "output_type": "stream",
     "text": [
      "Basic tests are passed.\n"
     ]
    }
   ],
   "source": [
    "print(question_to_vec_tests())"
   ]
  },
  {
   "cell_type": "markdown",
   "metadata": {},
   "source": [
    "You can submit embeddings for the questions from the file *test_embeddings.tsv* to earn the points. In this task you don't need to transform the text of a question somehow."
   ]
  },
  {
   "cell_type": "code",
   "execution_count": 31,
   "metadata": {},
   "outputs": [
    {
     "name": "stdout",
     "output_type": "stream",
     "text": [
      "[nltk_data] Downloading package stopwords to /root/nltk_data...\n",
      "[nltk_data]   Unzipping corpora/stopwords.zip.\n"
     ]
    }
   ],
   "source": [
    "import nltk\n",
    "nltk.download('stopwords')\n",
    "from util import array_to_string"
   ]
  },
  {
   "cell_type": "code",
   "execution_count": 32,
   "metadata": {},
   "outputs": [
    {
     "name": "stdout",
     "output_type": "stream",
     "text": [
      "Current answer for task Question2Vec is: 0.019293891059\n",
      "-0.0287272135417\n",
      "0.0460561116536\n",
      "0.0852593315972\n",
      "0.0243055555556\n",
      "-0.0729031032986\n",
      "0.0...\n"
     ]
    }
   ],
   "source": [
    "question2vec_result = []\n",
    "for question in open('data/test_embeddings.tsv'):\n",
    "    question = question.strip()\n",
    "    answer = question_to_vec(question, wv_embeddings)\n",
    "    question2vec_result = np.append(question2vec_result, answer)\n",
    "\n",
    "grader.submit_tag('Question2Vec', array_to_string(question2vec_result))"
   ]
  },
  {
   "cell_type": "markdown",
   "metadata": {},
   "source": [
    "Now we have a method to create a representation of any sentence and we are ready for the first evaluation. So, let's check how well our solution (Google's vectors + *question_to_vec*) will work.\n",
    "\n",
    "## Evaluation of text similarity\n",
    "\n",
    "We can imagine that if we use good embeddings, the cosine similarity between the duplicate sentences should be less than for the random ones. Overall, for each pair of duplicate sentences we can generate *R* random negative examples and find out the position of the correct duplicate.  \n",
    "\n",
    "For example, we have the question *\"Exceptions What really happens\"* and we are sure that another question *\"How does the catch keyword determine the type of exception that was thrown\"* is a duplicate. But our model doesn't know it and tries to find out the best option also among questions like *\"How Can I Make These Links Rotate in PHP\"*, *\"NSLog array description not memory address\"* and *\"PECL_HTTP not recognised php ubuntu\"*. The goal of the model is to rank all these 4 questions (1 *positive* and *R* = 3 *negative*) in the way that the correct one is in the first place.\n",
    "\n",
    "However, it is unnatural to count on that the best candidate will be always in the first place. So let us consider the place of the best candidate in the sorted list of candidates and formulate a metric based on it. We can fix some *K* — a reasonalble number of top-ranked elements and *N* — a number of queries (size of the sample).\n",
    "\n",
    "### Hits@K\n",
    "\n",
    "The first simple metric will be a number of correct hits for some *K*:\n",
    "$$ \\text{Hits@K} = \\frac{1}{N}\\sum_{i=1}^N \\, [dup_i \\in topK(q_i)]$$\n",
    "\n",
    "where $q_i$ is the i-th query, $dup_i$ is its duplicate, $topK(q_i)$ is the top K elements of the ranked sentences provided by our model and the operation $[dup_i \\in topK(q_i)]$ equals 1 if the condition is true and 0 otherwise (more details about this operation could be found [here](https://en.wikipedia.org/wiki/Iverson_bracket)).\n",
    "\n",
    "\n",
    "### DCG@K\n",
    "The second one is a simplified [DCG metric](https://en.wikipedia.org/wiki/Discounted_cumulative_gain):\n",
    "\n",
    "$$ \\text{DCG@K} = \\frac{1}{N} \\sum_{i=1}^N\\frac{1}{\\log_2(1+rank_{dup_i})}\\cdot[rank_{dup_i} \\le K] $$\n",
    "\n",
    "where $rank_{dup_i}$ is a position of the duplicate in the sorted list of the nearest sentences for the query $q_i$. According to this metric, the model gets a higher reward for a higher position of the correct answer. If the answer does not appear in topK at all, the reward is zero. "
   ]
  },
  {
   "cell_type": "markdown",
   "metadata": {},
   "source": [
    "### Evaluation examples\n",
    "\n",
    "Let's calculate the described metrics for the toy example introduced above. In this case $N$ = 1 and the correct candidate for $q_1$ is *\"How does the catch keyword determine the type of exception that was thrown\"*. Consider the following ranking of the candidates:\n",
    "1. *\"How Can I Make These Links Rotate in PHP\"*\n",
    "2. *\"How does the catch keyword determine the type of exception that was thrown\"*\n",
    "3. *\"NSLog array description not memory address\"*\n",
    "4. *\"PECL_HTTP not recognised php ubuntu\"*\n",
    "\n",
    "Using the ranking above, calculate *Hits@K* metric for *K = 1, 2, 4*: \n",
    " \n",
    "- [K = 1] $\\text{Hits@1} = \\frac{1}{1}\\sum_{i=1}^1 \\, [dup_i \\in top1(q_i)] = [dup_1 \\in top1(q_1)] = 0$ because the correct answer doesn't appear in the *top1* list.\n",
    "- [K = 2] $\\text{Hits@2} = \\frac{1}{1}\\sum_{i=1}^1 \\, [dup_i \\in top2(q_i)] = [dup_1 \\in top2(q_1)] = 1$ because $rank_{dup_1} = 2$.\n",
    "- [K = 4] $\\text{Hits@4} = \\frac{1}{1}\\sum_{i=1}^1 \\, [dup_i \\in top4(q_i)] = [dup_1 \\in top4(q_1)] = 1$\n",
    "\n",
    "Using the ranking above, calculate *DCG@K* metric for *K = 1, 2, 4*:\n",
    "\n",
    "- [K = 1] $\\text{DCG@1} = \\frac{1}{1} \\sum_{i=1}^1\\frac{1}{\\log_2(1+rank_{dup_i})}\\cdot[rank_{dup_i} \\le 1] = \\frac{1}{\\log_2(1+rank_{dup_i})}\\cdot[rank_{dup_i} \\le 1] = 0$ because the correct answer doesn't appear in the top1 list.\n",
    "- [K = 2] $\\text{DCG@2} = \\frac{1}{1} \\sum_{i=1}^1\\frac{1}{\\log_2(1+rank_{dup_i})}\\cdot[rank_{dup_i} \\le 2] = \\frac{1}{\\log_2{3}}$, because $rank_{dup_1} = 2$.\n",
    "- [K = 4] $\\text{DCG@4} = \\frac{1}{1} \\sum_{i=1}^1\\frac{1}{\\log_2(1+rank_{dup_i})}\\cdot[rank_{dup_i} \\le 4] = \\frac{1}{\\log_2{3}}$.\n"
   ]
  },
  {
   "cell_type": "markdown",
   "metadata": {},
   "source": [
    "**Tasks 2 and 3 (HitsCount and DCGScore).** Implement the functions *hits_count* and *dcg_score* as described above. Each function has two arguments: *dup_ranks* and *k*. *dup_ranks* is a list which contains *values of ranks* of duplicates. For example, *dup_ranks* is *[2]* for the example provided above."
   ]
  },
  {
   "cell_type": "code",
   "execution_count": 33,
   "metadata": {},
   "outputs": [],
   "source": [
    "def hits_count(dup_ranks, k):\n",
    "    \"\"\"\n",
    "        dup_ranks: list of duplicates' ranks; one rank per question; \n",
    "                   length is a number of questions which we are looking for duplicates; \n",
    "                   rank is a number from 1 to len(candidates of the question); \n",
    "                   e.g. [2, 3] means that the first duplicate has the rank 2, the second one — 3.\n",
    "        k: number of top-ranked elements (k in Hits@k metric)\n",
    "\n",
    "        result: return Hits@k value for current ranking\n",
    "    \"\"\"\n",
    "    ######################################\n",
    "    ######### YOUR CODE HERE #############\n",
    "    hits_count_value = 0\n",
    "    N = len(dup_ranks)\n",
    "    #print(N)\n",
    "    for i in range(N):\n",
    "        hits_count_value += (1/N) * (1 if k >= dup_ranks[i] else 0)\n",
    "        #print(1 if k >= dup_ranks[i] else 0)\n",
    "        \n",
    "    return (hits_count_value)\n",
    "    ######################################"
   ]
  },
  {
   "cell_type": "code",
   "execution_count": 34,
   "metadata": {},
   "outputs": [
    {
     "name": "stdout",
     "output_type": "stream",
     "text": [
      "0.5 0.5\n",
      "1.0 1\n"
     ]
    }
   ],
   "source": [
    "answers = [\"How does the catch keyword determine the type of exception that was thrown\", \n",
    "               \"Convert Google results object (pure js) to Python object\"]\n",
    "    \n",
    "    # The first test: both duplicates on the first position in ranked list\n",
    "candidates_ranking = [[\"How Can I Make These Links Rotate in PHP\", \n",
    "                           \"How does the catch keyword determine the type of exception that was thrown\"], \n",
    "                          [\"Convert Google results object (pure js) to Python object\",\n",
    "                           \"WPF- How to update the changes in list item of a list\"]]\n",
    "dup_ranks = [candidates_ranking[i].index(answers[i]) + 1 for i in range(len(answers))]\n",
    "correct_answers = [0.5, 1]\n",
    "# for k, correct in enumerate(correct_answers, 1):\n",
    "#     if not np.isclose(hits_count(dup_ranks, k), correct):\n",
    "#         return \"Check the function (test: one candidate on the first position, another — on the second).\"\n",
    "for k, correct in enumerate(correct_answers, 1):\n",
    "    print(hits_count(dup_ranks, k), correct)\n",
    "    #print(dup_ranks, k)"
   ]
  },
  {
   "cell_type": "code",
   "execution_count": 35,
   "metadata": {},
   "outputs": [
    {
     "data": {
      "text/plain": [
       "0.5"
      ]
     },
     "execution_count": 35,
     "metadata": {},
     "output_type": "execute_result"
    }
   ],
   "source": [
    "1/2"
   ]
  },
  {
   "cell_type": "markdown",
   "metadata": {},
   "source": [
    "Test your code on the tiny examples:"
   ]
  },
  {
   "cell_type": "code",
   "execution_count": 36,
   "metadata": {},
   "outputs": [],
   "source": [
    "def test_hits():\n",
    "    # *Evaluation example*\n",
    "    # answers — dup_i\n",
    "    answers = [\"How does the catch keyword determine the type of exception that was thrown\"]\n",
    "    \n",
    "    # candidates_ranking — the ranked sentences provided by our model\n",
    "    candidates_ranking = [[\"How Can I Make These Links Rotate in PHP\", \n",
    "                           \"How does the catch keyword determine the type of exception that was thrown\",\n",
    "                           \"NSLog array description not memory address\",\n",
    "                           \"PECL_HTTP not recognised php ubuntu\"]]\n",
    "    # dup_ranks — position of the dup_i in the list of ranks +1\n",
    "    dup_ranks = [candidates_ranking[i].index(answers[i]) + 1 for i in range(len(answers))]\n",
    "    \n",
    "    # correct_answers — the expected values of the result for each k from 1 to 4\n",
    "    correct_answers = [0, 1, 1, 1]\n",
    "    for k, correct in enumerate(correct_answers, 1):\n",
    "        if not np.isclose(hits_count(dup_ranks, k), correct):\n",
    "            return \"Check the function.\"\n",
    "    \n",
    "    # Other tests\n",
    "    answers = [\"How does the catch keyword determine the type of exception that was thrown\", \n",
    "               \"Convert Google results object (pure js) to Python object\"]\n",
    "    \n",
    "    # The first test: both duplicates on the first position in ranked list\n",
    "    candidates_ranking = [[\"How does the catch keyword determine the type of exception that was thrown\",\n",
    "                           \"How Can I Make These Links Rotate in PHP\"], \n",
    "                          [\"Convert Google results object (pure js) to Python object\",\n",
    "                           \"WPF- How to update the changes in list item of a list\"]]\n",
    "    dup_ranks = [candidates_ranking[i].index(answers[i]) + 1 for i in range(len(answers))]\n",
    "    correct_answers = [1, 1]\n",
    "    for k, correct in enumerate(correct_answers, 1):\n",
    "        if not np.isclose(hits_count(dup_ranks, k), correct):\n",
    "            return \"Check the function (test: both duplicates on the first position in ranked list).\"\n",
    "        \n",
    "    # The second test: one candidate on the first position, another — on the second\n",
    "    candidates_ranking = [[\"How Can I Make These Links Rotate in PHP\", \n",
    "                           \"How does the catch keyword determine the type of exception that was thrown\"], \n",
    "                          [\"Convert Google results object (pure js) to Python object\",\n",
    "                           \"WPF- How to update the changes in list item of a list\"]]\n",
    "    dup_ranks = [candidates_ranking[i].index(answers[i]) + 1 for i in range(len(answers))]\n",
    "    correct_answers = [0.5, 1]\n",
    "    for k, correct in enumerate(correct_answers, 1):\n",
    "        if not np.isclose(hits_count(dup_ranks, k), correct):\n",
    "            return \"Check the function (test: one candidate on the first position, another — on the second).\"\n",
    "\n",
    "    # The third test: both candidates on the second position\n",
    "    candidates_ranking = [[\"How Can I Make These Links Rotate in PHP\", \n",
    "                           \"How does the catch keyword determine the type of exception that was thrown\"], \n",
    "                          [\"WPF- How to update the changes in list item of a list\",\n",
    "                           \"Convert Google results object (pure js) to Python object\"]]\n",
    "    dup_ranks = [candidates_ranking[i].index(answers[i]) + 1 for i in range(len(answers))]\n",
    "    correct_answers = [0, 1]\n",
    "    for k, correct in enumerate(correct_answers, 1):\n",
    "        if not np.isclose(hits_count(dup_ranks, k), correct):\n",
    "            return \"Check the function (test: both candidates on the second position).\"\n",
    "\n",
    "    return \"Basic test are passed.\""
   ]
  },
  {
   "cell_type": "code",
   "execution_count": 37,
   "metadata": {},
   "outputs": [
    {
     "name": "stdout",
     "output_type": "stream",
     "text": [
      "Basic test are passed.\n"
     ]
    }
   ],
   "source": [
    "print(test_hits())"
   ]
  },
  {
   "cell_type": "code",
   "execution_count": 38,
   "metadata": {},
   "outputs": [],
   "source": [
    "def dcg_score(dup_ranks, k):\n",
    "    \"\"\"\n",
    "        dup_ranks: list of duplicates' ranks; one rank per question; \n",
    "                   length is a number of questions which we are looking for duplicates; \n",
    "                   rank is a number from 1 to len(candidates of the question); \n",
    "                   e.g. [2, 3] means that the first duplicate has the rank 2, the second one — 3.\n",
    "        k: number of top-ranked elements (k in DCG@k metric)\n",
    "\n",
    "        result: return DCG@k value for current ranking\n",
    "    \"\"\"\n",
    "    ######################################\n",
    "    ######### YOUR CODE HERE #############\n",
    "    dcg_k_value = 0\n",
    "    N = len(dup_ranks)\n",
    "    #print(N)\n",
    "    for i in range(N):\n",
    "        dcg_k_value += (1/N) * (1 / np.log2(1+dup_ranks[i]) if k >= dup_ranks[i] else 0)\n",
    "        #print(1 if k >= dup_ranks[i] else 0)\n",
    "        \n",
    "    return dcg_k_value\n",
    "    \n",
    "    ######################################"
   ]
  },
  {
   "cell_type": "code",
   "execution_count": 39,
   "metadata": {},
   "outputs": [
    {
     "name": "stdout",
     "output_type": "stream",
     "text": [
      "0.0 0\n",
      "0.630929753571 0.630929753571\n",
      "0.630929753571 0.630929753571\n",
      "0.630929753571 0.630929753571\n"
     ]
    }
   ],
   "source": [
    "answers = [\"How does the catch keyword determine the type of exception that was thrown\"]\n",
    "    \n",
    "    # candidates_ranking — the ranked sentences provided by our model\n",
    "candidates_ranking = [[\"How Can I Make These Links Rotate in PHP\", \n",
    "                       \"How does the catch keyword determine the type of exception that was thrown\",\n",
    "                       \"NSLog array description not memory address\",\n",
    "                       \"PECL_HTTP not recognised php ubuntu\"]]\n",
    "# dup_ranks — position of the dup_i in the list of ranks +1\n",
    "dup_ranks = [candidates_ranking[i].index(answers[i]) + 1 for i in range(len(answers))]\n",
    "\n",
    "# correct_answers — the expected values of the result for each k from 1 to 4\n",
    "correct_answers = [0, 1 / (np.log2(3)), 1 / (np.log2(3)), 1 / (np.log2(3))]\n",
    "for k, correct in enumerate(correct_answers, 1):\n",
    "    print(dcg_score(dup_ranks, k), correct)\n",
    "    #print(dup_ranks, k)"
   ]
  },
  {
   "cell_type": "code",
   "execution_count": 40,
   "metadata": {},
   "outputs": [],
   "source": [
    "def test_dcg():\n",
    "    # *Evaluation example*\n",
    "    # answers — dup_i\n",
    "    answers = [\"How does the catch keyword determine the type of exception that was thrown\"]\n",
    "    \n",
    "    # candidates_ranking — the ranked sentences provided by our model\n",
    "    candidates_ranking = [[\"How Can I Make These Links Rotate in PHP\", \n",
    "                           \"How does the catch keyword determine the type of exception that was thrown\",\n",
    "                           \"NSLog array description not memory address\",\n",
    "                           \"PECL_HTTP not recognised php ubuntu\"]]\n",
    "    # dup_ranks — position of the dup_i in the list of ranks +1\n",
    "    dup_ranks = [candidates_ranking[i].index(answers[i]) + 1 for i in range(len(answers))]\n",
    "    \n",
    "    # correct_answers — the expected values of the result for each k from 1 to 4\n",
    "    correct_answers = [0, 1 / (np.log2(3)), 1 / (np.log2(3)), 1 / (np.log2(3))]\n",
    "    for k, correct in enumerate(correct_answers, 1):\n",
    "        if not np.isclose(dcg_score(dup_ranks, k), correct):\n",
    "            return \"Check the function.\"\n",
    "    \n",
    "    # Other tests\n",
    "    answers = [\"How does the catch keyword determine the type of exception that was thrown\", \n",
    "               \"Convert Google results object (pure js) to Python object\"]\n",
    "\n",
    "    # The first test: both duplicates on the first position in ranked list\n",
    "    candidates_ranking = [[\"How does the catch keyword determine the type of exception that was thrown\",\n",
    "                           \"How Can I Make These Links Rotate in PHP\"], \n",
    "                          [\"Convert Google results object (pure js) to Python object\",\n",
    "                           \"WPF- How to update the changes in list item of a list\"]]\n",
    "    dup_ranks = [candidates_ranking[i].index(answers[i]) + 1 for i in range(len(answers))]\n",
    "    correct_answers = [1, 1]\n",
    "    for k, correct in enumerate(correct_answers, 1):\n",
    "        if not np.isclose(dcg_score(dup_ranks, k), correct):\n",
    "            return \"Check the function (test: both duplicates on the first position in ranked list).\"\n",
    "        \n",
    "    # The second test: one candidate on the first position, another — on the second\n",
    "    candidates_ranking = [[\"How Can I Make These Links Rotate in PHP\", \n",
    "                           \"How does the catch keyword determine the type of exception that was thrown\"], \n",
    "                          [\"Convert Google results object (pure js) to Python object\",\n",
    "                           \"WPF- How to update the changes in list item of a list\"]]\n",
    "    dup_ranks = [candidates_ranking[i].index(answers[i]) + 1 for i in range(len(answers))]\n",
    "    correct_answers = [0.5, (1 + (1 / (np.log2(3)))) / 2]\n",
    "    for k, correct in enumerate(correct_answers, 1):\n",
    "        if not np.isclose(dcg_score(dup_ranks, k), correct):\n",
    "            return \"Check the function (test: one candidate on the first position, another — on the second).\"\n",
    "        \n",
    "    # The third test: both candidates on the second position\n",
    "    candidates_ranking = [[\"How Can I Make These Links Rotate in PHP\",\n",
    "                           \"How does the catch keyword determine the type of exception that was thrown\"], \n",
    "                          [\"WPF- How to update the changes in list item of a list\",\n",
    "                           \"Convert Google results object (pure js) to Python object\"]]\n",
    "    dup_ranks = [candidates_ranking[i].index(answers[i]) + 1 for i in range(len(answers))]\n",
    "    correct_answers = [0, 1 / (np.log2(3))]\n",
    "    for k, correct in enumerate(correct_answers, 1):\n",
    "        if not np.isclose(dcg_score(dup_ranks, k), correct):\n",
    "            return \"Check the function (test: both candidates on the second position).\"\n",
    "\n",
    "    return \"Basic test are passed.\""
   ]
  },
  {
   "cell_type": "code",
   "execution_count": 41,
   "metadata": {},
   "outputs": [
    {
     "name": "stdout",
     "output_type": "stream",
     "text": [
      "Basic test are passed.\n"
     ]
    }
   ],
   "source": [
    "print(test_dcg())"
   ]
  },
  {
   "cell_type": "markdown",
   "metadata": {},
   "source": [
    "Submit results of the functions *hits_count* and *dcg_score* for the following examples to earn the points."
   ]
  },
  {
   "cell_type": "code",
   "execution_count": 42,
   "metadata": {},
   "outputs": [],
   "source": [
    "test_examples = [\n",
    "    [1],\n",
    "    [1, 2],\n",
    "    [2, 1],\n",
    "    [1, 2, 3],\n",
    "    [1, 2, 3, 4, 5, 6, 7, 8, 9, 10],\n",
    "    [9, 5, 4, 2, 8, 10, 7, 6, 1, 3],\n",
    "    [4, 3, 5, 1, 9, 10, 7, 8, 2, 6],\n",
    "    [5, 1, 7, 6, 2, 3, 8, 9, 10, 4],\n",
    "    [6, 3, 1, 4, 7, 2, 9, 8, 10, 5],\n",
    "    [10, 9, 8, 7, 6, 5, 4, 3, 2, 1],\n",
    "]"
   ]
  },
  {
   "cell_type": "code",
   "execution_count": 43,
   "metadata": {},
   "outputs": [
    {
     "name": "stdout",
     "output_type": "stream",
     "text": [
      "Current answer for task HitsCount is: 1.0\n",
      "0.5\n",
      "1.0\n",
      "0.5\n",
      "1.0\n",
      "0.3333333333333333\n",
      "0.6666666666666666\n",
      "1.0\n",
      "0.1\n",
      "0.2\n",
      "0.30000000000000004\n",
      "0.4\n",
      "0.5\n",
      "0....\n"
     ]
    }
   ],
   "source": [
    "hits_results = []\n",
    "for example in test_examples:\n",
    "    for k in range(len(example)):\n",
    "        hits_results.append(hits_count(example, k + 1))\n",
    "grader.submit_tag('HitsCount', array_to_string(hits_results))"
   ]
  },
  {
   "cell_type": "code",
   "execution_count": 44,
   "metadata": {},
   "outputs": [
    {
     "name": "stdout",
     "output_type": "stream",
     "text": [
      "Current answer for task DCGScore is: 1.0\n",
      "0.5\n",
      "0.815464876786\n",
      "0.5\n",
      "0.815464876786\n",
      "0.333333333333\n",
      "0.54364325119\n",
      "0.710309917857\n",
      "0.1\n",
      "0.16309297...\n"
     ]
    }
   ],
   "source": [
    "dcg_results = []\n",
    "for example in test_examples:\n",
    "    for k in range(len(example)):\n",
    "        dcg_results.append(dcg_score(example, k + 1))\n",
    "grader.submit_tag('DCGScore', array_to_string(dcg_results))"
   ]
  },
  {
   "cell_type": "markdown",
   "metadata": {},
   "source": [
    "##  First solution: pre-trained embeddings"
   ]
  },
  {
   "cell_type": "markdown",
   "metadata": {},
   "source": [
    "We will work with predefined train, validation and test corpora. All the files are tab-separated, but have a different format:\n",
    " - *train* corpus contains similar sentences at the same row.\n",
    " - *validation* corpus contains the following columns: *question*, *similar question*, *negative example 1*, *negative example 2*, ... \n",
    " - *test* corpus contains the following columns: *question*, *example 1*, *example 2*, ...\n",
    "\n",
    "Validation corpus will be used for the intermediate validation of models. The test data will be necessary for submitting the quality of your model in the system."
   ]
  },
  {
   "cell_type": "markdown",
   "metadata": {},
   "source": [
    "Now you should upload *validation* corpus to evaluate current solution."
   ]
  },
  {
   "cell_type": "code",
   "execution_count": 45,
   "metadata": {},
   "outputs": [],
   "source": [
    "def read_corpus(filename):\n",
    "    data = []\n",
    "    for line in open(filename, encoding='utf-8'):\n",
    "        data.append(line.strip().split('\\t'))\n",
    "    return data"
   ]
  },
  {
   "cell_type": "code",
   "execution_count": 46,
   "metadata": {},
   "outputs": [],
   "source": [
    "validation = read_corpus('data/validation.tsv') ######### YOUR CODE HERE #############"
   ]
  },
  {
   "cell_type": "code",
   "execution_count": 47,
   "metadata": {},
   "outputs": [
    {
     "data": {
      "text/plain": [
       "['How to start PhoneStateListener programmatically?',\n",
       " 'PhoneStateListener and service',\n",
       " 'Java cast object[] to model',\n",
       " 'WCF and What does this mean?',\n",
       " 'How to uncheck checkbox using jQuery Uniform library',\n",
       " 'Two projects with same code base',\n",
       " \"Can't read php file when upload image to server in titanium\",\n",
       " 'create pandas dataframe from dictionary of dictionaries',\n",
       " 'how to pass tkinter text to flex',\n",
       " 'runtime error project source code not found and invalid string null exception?',\n",
       " 'excel VBA new URL on existing IE',\n",
       " 'Howto immediately update TextBox after correction of bound property?',\n",
       " 'JAX-RS Jersey/Grizzly Define an interface resource',\n",
       " 'JSONConvert.DeserializeObject not handling child array with unnamed array items',\n",
       " 'Unexpected error while loading data',\n",
       " 'Cucumber Capybara Selenium race condition with expect(all())',\n",
       " 'How do I check if one vector is a subset of another?',\n",
       " 'Dropdown list where options populate a second list js/php?',\n",
       " 'Automated Email Sender',\n",
       " 'mysqldump --routines not including routines in created file',\n",
       " \"'Save As' image with src from PHP\",\n",
       " 'enable mouse scrolling but not mouse visual selection in vim?',\n",
       " \"Cucumber's AfterConfiguration can't access helper modules\",\n",
       " 'Doctrine 1.2: Can a model have two instances of the sluggabl behavior?',\n",
       " 'Should a custom find method on a Laravel Model be static?',\n",
       " \"Calling spring data rest repository method doesn't return links\",\n",
       " 'QML : Flippable issue',\n",
       " 'css: how to build centered div with minimum spacing on the left',\n",
       " 'Android OS Calling onActivityResult before picking up image from gallery',\n",
       " 'how to detect if is running the scan for new media files on Android (in background)',\n",
       " 'Undo in JTextField and setText',\n",
       " 'Swift: Create Reproducible NSView using Interface Builder',\n",
       " 'Is there a predefined webpart called CAPTCHA webpart?',\n",
       " 'fme datalist extension for alfresco community 4.0.c',\n",
       " 'How to read the call log on iPhone iOS 5 programmatically',\n",
       " 'Rendering partial views with Razor in MVC5',\n",
       " '$ is not a function errors',\n",
       " 'Get values on a row based on two or more rows in Excel',\n",
       " \"Python 3.3 can't import Crypt\",\n",
       " 'Why Hashmap is not displaying in order?',\n",
       " 'Keepalive time - cannot reduce below one minute in C++',\n",
       " 'ExecCommand not working on all systems',\n",
       " 'What are we doing wrong with git?',\n",
       " \"Database foreign key constraint doesn't work?\",\n",
       " 'Custom Partitioner : N number of keys to N different files',\n",
       " 'Behaviour of autoDestroy: false in Extjs4',\n",
       " 'Conditional extends in Blade',\n",
       " 'Get Word bookmark index to replace image inside bookmark from Excel',\n",
       " 'Set label text based on dropdown list selection from datasource',\n",
       " 'How do I refresh in Firefox and preserve breakpoints?',\n",
       " 'Closely coupled C# classes in one module, how to improve this design?',\n",
       " 'Jacobian and Hessian inputs in `scipy.optimize.minimize`',\n",
       " 'Force full calculation of entire workbook in Coldfusion / Apache POI',\n",
       " 'Adobe AIR lag on high resolution Android devices',\n",
       " 'magento product category not applying, but applying after manual \"save\"',\n",
       " 'how to get environment variables desktop path',\n",
       " 'Get few lines of HDFS data',\n",
       " 'JSP Redirect: Session Loss Issues',\n",
       " 'What does JPA EntityManager.getSingleResult() return for a COUNT query?',\n",
       " 'Limit Linq result columns for GridView',\n",
       " 'Unmarshalling, manipulating and then marshalling CVS data in Camel using Spring DSL',\n",
       " 'Sphinx Search Multiple Tables and Aggregate Results Using PHP API',\n",
       " 'What is a Sanity Suite?',\n",
       " 'In Spring OAuth2, why is my resource still unprotected even though I have marked it in my resource server?',\n",
       " \"Unable to run rails server: `require': cannot load such file -- net/ssh (LoadError)\",\n",
       " 'Building a Matrix of Combinations',\n",
       " 'Convert Perl Regular Expression into Java Regular Expression',\n",
       " \"Value of type 'String' has no member 'range' in Swift\",\n",
       " 'Using awk to remove spaces from a field',\n",
       " 'Executing a function on ring/compjure application startup after deploy',\n",
       " 'Does using compare on a nil NSNumber always return NSOrderedSame?',\n",
       " 'Sign on several sites',\n",
       " 'Finding entry of vector in PARI/GP?',\n",
       " 'How to draw line and font without D3DX9 in DirectX 9?',\n",
       " 'grep through colored text , e.g. gcc | colorgcc | grep regexp',\n",
       " 'Querying ignoring a time portion of TIMESTAMP fields along with JPA converter',\n",
       " 'refresh gridview after adding or deleting new record in c#',\n",
       " 'Move static data from db into code in rails 3',\n",
       " 'How to free memory after array in PHP? unset and = null seems to not working',\n",
       " 'CSS Sprites Bottom repeating',\n",
       " \"How can I workaround heroku's 30 sec timeout when executing long PLSQL procedure in Rails?\",\n",
       " 'java.lang.OutOfMemoryError - Very large SOAP response',\n",
       " 'Data binding access in xaml vs in code behind - Linq to XML?',\n",
       " 'Filter Array Content to a Query containing $concatArrays',\n",
       " 'IntelliJ IDEA: ClassNotFoundException if run Debug, execution/run does work',\n",
       " 'How to read events for a particular date from native calendar',\n",
       " 'PEAR and absolute paths',\n",
       " 'Ember, safe way to save models',\n",
       " 'Javascript Json Parser',\n",
       " 'How can I keep my initializer configuration from being lost in development mode?',\n",
       " 'Adding in-app purchase to existing published application and testing it without publishing',\n",
       " 'If statement in TableView Cell not working',\n",
       " 'SFML fails in multithreading',\n",
       " 'Is there a canonical way of passing options to a Go function?',\n",
       " 'Problems with limit method in Rails 3.2 and hash ordering',\n",
       " 'How can I choose the location where I want to save downloaded files?',\n",
       " 'Creating NSWindow programmatically in Mono using MonoMac.dll Ref',\n",
       " \"Can you use DataTable.Contains(object key) if your datatable's primary key is two columns?\",\n",
       " 'Linking two UIScrollViews so they follow each others touches',\n",
       " 'Unable to dump a relation in PIG',\n",
       " 'Error when TS audio stream over UDP',\n",
       " 'getting java.net.SocketException: Invalid argument:inside docker container',\n",
       " 'GIT - Fail to checkout to other branch when nothing to commit - when file is in gitignore',\n",
       " 'ASP.NET: How can I create a Login System using aspnet_regsql.exe?',\n",
       " 'Putting 2 divs on the same line',\n",
       " \"Interface's function clashes with Property's getter\",\n",
       " 'How do I make a table from a List MVC?',\n",
       " 'Ignore blur event if user choose address on google map autocomplete',\n",
       " 'RethinkDB update field inside nested array->obj',\n",
       " 'Authenticate users using cURL for my login system on my site?',\n",
       " 'Silverlight datagrid disable particular cell',\n",
       " 'Path configuration with sphinx',\n",
       " 'FileNotFoundError: [WinError 2] python 3.4',\n",
       " 'SVG click events not firing/bubbling when using <use> element',\n",
       " 'Visual Studio publish to azure existing apps error',\n",
       " \"angular javascript won't apply to ui-view inserted element\",\n",
       " 'Passing shake gesture event to the app delegate',\n",
       " 'How to display french letters?',\n",
       " 'Forbidden access Codeigniter URL',\n",
       " 'Calling Method in Android',\n",
       " \"Facebook Comment box inside UIWebView doesn't have the right height\",\n",
       " 'how can i get the object of a button created with storyboard',\n",
       " 'CodeIgniter Removing index.php using .htaccess file',\n",
       " 'ArgumentException: The specified structure must be blittable or have layout information',\n",
       " \"Event Viewer reporting my C# application crashed through 'System.Environment.FailFast()'\",\n",
       " 'Leaving equal width gap spacing before and between menu buttons',\n",
       " 'Get Button Value when click in Angularjs',\n",
       " 'Android map api-2 disable click',\n",
       " 'Can not add rows using datatable.js Ajax',\n",
       " 'Passing a simple IEnumerable to view and using foreach to loop through returns a blank screen?',\n",
       " 'Cordova brightness still returns -1',\n",
       " 'GDB/MI redirect stdin and stdout to files',\n",
       " 'how to clear devise session on browser close?',\n",
       " 'JsTree - Get Degree of Node',\n",
       " 'Swift type inference and type checking issue',\n",
       " 'How to call DocuSign Signer Information screen?',\n",
       " \"Getfield.SetValue doesn't work\",\n",
       " 'Why do we put \"#\" in front of myTempTableName?',\n",
       " 'Accessing SQL Server over an SSH tunnel',\n",
       " 'Deleting Li doesnot work for dynamic li',\n",
       " 'iOS 10 FBSDKAppInviteContent() not working anymore?',\n",
       " 'RoR: How to populate table from radio buttons?',\n",
       " 'I have a SQLite syntax error in DELETE statement',\n",
       " 'Cookies of domain are sent to subdomain, how to fix?',\n",
       " 'Why libuv use thread pool to run all file system operations',\n",
       " 'CSS button not styling',\n",
       " 'Error while creating Menu Dynamically with Xamarin Android',\n",
       " 'Why does my GradientDescentOptimizer produce NaN?',\n",
       " 'Dynamic table in html',\n",
       " 'Coq tutorial and/or book with exercises involving subset types',\n",
       " 'How to have a where clause on an insert or an update in Linq to Sql?',\n",
       " \"Aren't these two statements incompatible in N4140?\",\n",
       " 'how use tests written in Selenium and Cucumber-JVM with JMeter?',\n",
       " 'Why use Thread.currentThread().isInterrupted() instead of Thread.interrupted() when implementing Runnable?',\n",
       " 'How to preserve TwoWay binding of CurrentItem when databinding to CollectionViewSource in ComboBox',\n",
       " 'Android find if color is too close to black or white',\n",
       " 'Dynamic listview with jquery mobile',\n",
       " 'ClearCase Remote Client CLI?',\n",
       " 'Ajax Accordion issues in firefox/chrome',\n",
       " 'Running Webrick server in background?',\n",
       " 'Can I create my own command in sublime and how to associate python implementation to that command?',\n",
       " 'prepareForSegue not getting called when registering a custom cell',\n",
       " 'C# Xml Parsing from StringBuilder',\n",
       " 'Dynamically generate a list of available languages in Spring MVC',\n",
       " 'Recursively find subdirectories and files',\n",
       " 'Check key exists in NSDictionary',\n",
       " 'c++ for loop with decrement update causing infinite loop?',\n",
       " 'MySQL JOIN returns NULL fields',\n",
       " 'Need algorithm for angle of WPF line',\n",
       " 'How to get String value from a boolean value using MySQL query in Jasper Studio',\n",
       " 'What is the usage of global:: keyword in C#?',\n",
       " 'iOS Framework: All Functions Demanding Different Types of Parameters',\n",
       " 'How to print a binary heap tree without recursion?',\n",
       " 'JavaScript variable is undefined after being passed in a function',\n",
       " '\"preprocess current file\" addin for Visual Studio? (C++ )',\n",
       " 'Object Oriented Database Vs object Relational Database',\n",
       " 'run method onclick crash in android',\n",
       " 'Does Akka support in-process messaging without object serialization?',\n",
       " 'AWS Elastic Beanstalk - Increase Instance Disk Capacity',\n",
       " 'Inter Thread Communication in C',\n",
       " 'Do we have Reminders in windows 8',\n",
       " 'Make specific ListView item not clickable in Universal Windows Platform',\n",
       " 'Regex groups in python',\n",
       " 'Facebook Realtime Updates - Dispute - Response',\n",
       " 'Is empty struct defined by C++ standard?',\n",
       " 'Background Image disappearing in Microsoft Edge',\n",
       " 'Java getNodeName and namespaces',\n",
       " 'SpringBatch CommandLineJobRunner -next using old run.id',\n",
       " 'Apache camel soap request type conversion error',\n",
       " 'How to get mouse position in float or double with exact resolution?',\n",
       " 'Hive query output to file',\n",
       " 'Check if an object exists in JSON',\n",
       " 'PHP - Socket communication between servers',\n",
       " 'Windows Phone with XML file',\n",
       " 'Laravel 5.2 $fillable',\n",
       " 'Treeview - highlighting multiple items',\n",
       " 'OpenGL - Sweep Representations',\n",
       " 'Rstudio is.na(e2) error when sourcing r file of functions',\n",
       " \"Add subview to tableview which doesn't scroll\",\n",
       " 'readHTMLTable and UTF-8 encoding',\n",
       " '.htaccess block certain website',\n",
       " 'Use for WorkItemAttribute?',\n",
       " 'Foreach changes not being preserved on Linq item collection',\n",
       " 'Why/How is IntelliJ causing debug output in Netbeans?',\n",
       " 'TypeInitializationException when running Stanford.NLP.CoreNLP example',\n",
       " 'Cannot load MySQL JDBC driver',\n",
       " 'MySQL - Trying to count tickets sold for an event',\n",
       " \"A string with '-' character is not drawing properly in drawrect method in iOS\",\n",
       " 'tabBar:didSelectItem and popToRootViewControllerAnimated',\n",
       " 'APK loading workflow documentation',\n",
       " 'chosen allow_single_deselect is not working as expected',\n",
       " 'writing boost::archive to C# stream',\n",
       " 'Replacing directory with external results in \"working copy locked\" on `update`',\n",
       " 'Lm across many columns in a dataframe in R',\n",
       " 'Cassandra adding disks / increase storage volume without adding new nodes',\n",
       " 'How do I pass variables between methods in java?',\n",
       " 'Camera crash if called by other application',\n",
       " 'Trying to retrieve the most recent previous entry in a table',\n",
       " 'Watir wait_until_present times out instead of returning false',\n",
       " 'CentOS install mod_dav_svn',\n",
       " 'Facing issue with camera application',\n",
       " 'How to import data into neo4j (neo4j-community-2.0.0) in windows 7?',\n",
       " 'Trying to save my Django Model Formset, keep getting ManagementForm error?',\n",
       " 'UIToolbar on each page of UINavigationController',\n",
       " 'Non interactive samba user creation via ansible',\n",
       " \"Error while installing netCDF4 for Python, can't find HDF5\",\n",
       " \"Use Flexslider's selector property to skip some slides in DOM descending order\",\n",
       " 'carouFredSel Slider - prevent scroll to top on slides rolling',\n",
       " 'Structure a NoSQL database for a chat application (using FireBase)',\n",
       " 'How to change images in grid view as the position changes in android?',\n",
       " 'iOS6.1, iPod: Second video does not start at the beginning',\n",
       " 'Android Emulator Won\\'t Start in Eclipse \"reqested operation requires elevation',\n",
       " 'Test that app launches another app in Android',\n",
       " 'ZF2 detach listener from EventManager',\n",
       " 'PyScripter Rpyc',\n",
       " 'Cython: cimport and import numpy as (both) np',\n",
       " 'Access or download .csv file from dropbox using objective-c',\n",
       " 'Replacing an equation and embedding a math function plotter?',\n",
       " 'can you make an image button move in the same was as a bitmap in android',\n",
       " 'Dynamic name, password and ip in MySQL',\n",
       " 'AppleScript error \"Can’t make \\\\\"\" into type integer.\" number -1700',\n",
       " 'node (angular 2) updates the input field even on different PC or browser?',\n",
       " 'Restrict cipher suites on JRE level',\n",
       " 'Join tables hibernate + group by',\n",
       " 'Pulling prior year data',\n",
       " 'how to get rid of ArrayOfString classes from jax-ws client code',\n",
       " 'Get a worksheet name using Excel VBA',\n",
       " 'jQuery menu hover',\n",
       " 'Formation of Clusters in MATLAB',\n",
       " 'Use SQL to filter the results of a stored procedure',\n",
       " 'Java: How can I tell if one of my array String values is null?',\n",
       " 'Get log file name of database from .mdf file',\n",
       " 'Rename control methods in Windows Forms application',\n",
       " 'Spring Boot maven exec - unable to start class',\n",
       " 'Is IntentService appropriate for FileObserver',\n",
       " 'Add Button to CMS_Page_Edit via Observer',\n",
       " 'Using Nested Graphs in Sparql',\n",
       " 'asp.net mvc int property bind exception',\n",
       " 'Looping through AJAX and callbacks in jquery',\n",
       " 'Printing a Table from a Dictionary',\n",
       " 'Xcode 6, Yosemite Mac app help book: topic unavailable',\n",
       " 'There was no endpoint listening',\n",
       " 'NSString that contain lots of null termination?',\n",
       " 'BadTokenException - Unable to add window',\n",
       " 'Why is the getElementsByTagNameNS empty in java?',\n",
       " 'Ajax ModalPopup wrong display in IE8',\n",
       " 'Rescue all errors of a specific type inside a module',\n",
       " 'Setting svn:ignore property on files that are not version controlled',\n",
       " 'Is there a way to print to the console in an Android app?',\n",
       " 'Program exceeds a time limit, which seems impossible - buggy code',\n",
       " 'Reading values from one database and write it to another database',\n",
       " 'Visual Studio 201x: C# syntax highlighting for new object names',\n",
       " 'Calling a JAX-WS webservice from inside Matlab',\n",
       " 'How can I program a button in HTML to go to a link?',\n",
       " 'Rails 4, Ruby 2.0: Get PG Error when trying to get all records having a specified value in joined table',\n",
       " 'Add one \"day\" to date but let me choose what time',\n",
       " 'how to use jquery deferred with vktemplate / queuing ajax requests',\n",
       " 'Cant set text in TextView - android',\n",
       " 'Displaying image in MFC method that is not ONPaint',\n",
       " 'How to insert new row to database with AUTO_INCREMENT column without specifying column names?',\n",
       " 'Invalid Constraint Value',\n",
       " 'Magento not saving any data',\n",
       " \"Java Generics : Casting a raw type to any reifiable type doesn't generate unchecked cast warning\",\n",
       " 'Notifying user-mode as soon as a packet arrives',\n",
       " 'How to handle this type of events',\n",
       " \"Links don't work with jsp and jquery (How to link websiteurl in anchor tag in jsp page)\",\n",
       " 'how to populate a dropdownlist based on another dropdownlist selected value in mvc 4?',\n",
       " 'test driven asynch tasks',\n",
       " 'Log file not being generated while running a script via Windows Task Scheduler',\n",
       " 'How to know the discriminator value',\n",
       " \"Wrap two adjacent td's\",\n",
       " 'How do I get a Faye client given a client ID?',\n",
       " 'RoboGuice custom module application context',\n",
       " 'Memory leak in Python extension when array is created with PyArray_SimpleNewFromData() and returned',\n",
       " 'terminal command for running sublime text 3 from on ubuntu',\n",
       " 'Strange PHP 5.3 issue with date diff calculating difference in days',\n",
       " 'Why is my code making PDO return nested arrays?',\n",
       " 'Delphi TWebBrowser - how to use proxy with login/password?',\n",
       " \"Under iOS, does anyone know how UUID's are generated for executables and what information may be encoded therein?\",\n",
       " \"Can't create a Hadoop sequence file on a local file system\",\n",
       " 'hibernate ImprovedNamingStrategy overrides Table name in entity',\n",
       " 'Can I compare MysQL timestamp with datetime columns? is it bad?',\n",
       " 'JSON Safe Values from MySQL',\n",
       " 'SQL Select MIN in Subquery returns multiple records',\n",
       " 'How to update self based on reference of value from hashmap from self',\n",
       " 'Compile a Standalone Static Executable',\n",
       " 'Rally SDK App using Grid with collapsible tree of children stories',\n",
       " 'make a favorite list of job using PHP and MYSQL',\n",
       " \"Parent UIViewController Orientation Shouldn't Change After Dismissing the Child\",\n",
       " 'how to use jquery file upload angular version?',\n",
       " 'How do I fast foward branches without switching to them?',\n",
       " 'Managing database connectivity with ADO.NET',\n",
       " 'Repeat each value of an array two times (numpy)',\n",
       " 'Help me understand this C code (*(void(*) ()) scode) ()',\n",
       " 'Unity3D - Audio playing getting muted after getting any call/notification on Android',\n",
       " 'Can you set a tkinter background image without adding a new canvas element?',\n",
       " 'using tapply/dapply etc for t.tests',\n",
       " \"Binding a 'IsReadOnly' Dependency Property\",\n",
       " 'Meteor: Sharing/Passing Variable Between Controller and Helper (diff files)',\n",
       " 'Google Dart Simple Contact form',\n",
       " 'Loop invariant of linear search',\n",
       " 'How do I add an element to a list in Groovy?',\n",
       " 'DbAcl::check() - Failed ARO/ACO node lookup in permissions check.',\n",
       " 'Rotating coverflow effect',\n",
       " 'How to create multiple objects from a class with different variables?',\n",
       " 'How to store DbType.Time from c#',\n",
       " 'Custom keyboard clear button',\n",
       " 'Test class extending test class in dependency module',\n",
       " 'Error while making CLucene for Max OS X 10.10',\n",
       " 'Bind to docker socket on Windows',\n",
       " 'give type to anonymous type in linq query',\n",
       " 'Bigger image for first item of the gridview android',\n",
       " 'Form is submitting the Array instead of the wanted field in CakePHP',\n",
       " 'Proper groovy script for sum of fields in Elasticsearch documents',\n",
       " 'Monitor network usage of a process',\n",
       " 'PHP SCRIPT issue with passing the uploaded image to facebook->api function',\n",
       " 'Cocoon and has_one association',\n",
       " 'Bad performance (stuttering) with Windows Phone 7 Page Transitions',\n",
       " 'Datagridview enter key selects next cell from next row',\n",
       " 'Search and then delete depending on whether files contain a string',\n",
       " 'Beautifulsoup Exception list out of range',\n",
       " 'Footer. It overlaps on div',\n",
       " 'How to get the semantic orientation of String or adjectives by using SentiWordNet',\n",
       " 'Visual Basic Regular Expression Question',\n",
       " 'Jquery validate file ext on upload',\n",
       " 'CKEditor paragraph spacing issue',\n",
       " 'boost::shared_ptr and nullptr in default template function argument',\n",
       " \"Enemy Script Isn't working properly on my Tower Defense game c#\",\n",
       " 'TFS Build fails on Specifying Drop folder location',\n",
       " 'Formatting a numeric field to fixed length in crystal reports',\n",
       " 'Is there a framework/app for testing distributed systems or just network apps?',\n",
       " 'async/await for Worker',\n",
       " 'ComboBox bound to ICollectionView is displaying incorrect SelectedItem',\n",
       " 'How do I implement multiple argument generation using FsCheck?',\n",
       " 'Universal Analytics Custom Dimensions with Multiple Trackers - Old tracker recording User-Level Scope Dimension',\n",
       " 'SSLSetup on Amazon Linux: SSL Error, Multiple certificates provided',\n",
       " 'Firebird 2.5.6 romanian collation for UTF8 charset',\n",
       " 'How to implement builder pattern with fluent-interface with immutable results and extended interfaces?',\n",
       " 'Why did Rails Active Record migration generate COLLATE utf8_bin on varchar columns of mysql',\n",
       " 'Assign Topic in chm file',\n",
       " 'How do I get a stack trace using the ruby debugger?',\n",
       " \"ef7 unable to retrieve child collections' child object's properties\",\n",
       " 'C# JSON Post From JavaScript',\n",
       " 'simple sentiment analysis with java',\n",
       " 'dynamic allocation of more than 1 dimensional array',\n",
       " 'jQuery works on my page, but firebug says $ is not defined error. Why and how to avoid it?',\n",
       " 'How reliable is h2 database?',\n",
       " 'Scrapy How to check if certain class exists in a given element',\n",
       " 'Using Workflow Foundation to define flow of asp.net pages',\n",
       " 'Add precompiled dynamic library to APK when using QBS build system',\n",
       " 'Connecting mssql using php in linux server',\n",
       " '2 states roundable numeric text box with knockoutjs',\n",
       " 'a href in FT InfoWindow not working as I would like',\n",
       " 'How can I do point-to-point messaging in Bluemix using MQ Light?',\n",
       " 'My javascript web workers are dying silently at random places. How can I debug this?',\n",
       " 'Docker compose - secrets Additional property secrets is not allowed',\n",
       " \"NUnit - Loads ALL TestCaseSources even if they're not required by current test\",\n",
       " \"What's MySQL's string compare rule?\",\n",
       " 'Python: Using Excel CSV file to read only certain columns and rows',\n",
       " 'Creating a jump function',\n",
       " 'auto-increment using loopback.js and MongoDB',\n",
       " 'How to go to next screen of an app using appium?',\n",
       " 'CSS3 Rotate on animated element causing click event not to invoke',\n",
       " 'datagridview keypress event for adding new row',\n",
       " 'Subtypes vs Derived Types in C++',\n",
       " 'asmx service work regular but not async',\n",
       " 'Intellisense on wstring displays: npos = 18446744',\n",
       " 'After update from vs15 to vs17 660 errors appeared',\n",
       " 'Is there a better HTML escaping and unescaping tool than CGI for Ruby?',\n",
       " \"Can't add content on pages using webform template in Umbraco\",\n",
       " 'Xcode crashes when i run the app on my real device',\n",
       " 'How to set a custom UIToolBar always in the front and top of the application?',\n",
       " 'How can I use the mongolab add-on to Heroku from python?',\n",
       " \"I want to initialized every jtabbedpane's JTextarea with a new dynamic name?\",\n",
       " 'jquery: maskedinput plugin not playing nice with validation plugin',\n",
       " 'CSS Conditionals for WebKit Browsers',\n",
       " 'How to check if an NSMutableArray contains an object which contains certain text?',\n",
       " 'RxJS: Share() an Observable & Emit Last Value to each new subscriber',\n",
       " 'how to load unstructured non-queryset data with django-tables2',\n",
       " 'How to search a video using youtube api',\n",
       " 'div width height according text?',\n",
       " 'Jenkins node connection troubles',\n",
       " 'unexpected behavior in core.logic conjo goal',\n",
       " 'Calling an extension method on a member variable of type T of class<T>',\n",
       " 'Clear CSS menu hover state on click (page loaded via ajax)',\n",
       " \"Field 'x' doesn't have a default value\",\n",
       " 'Compatibility issues in swing drawing app OSX/Windows',\n",
       " 'glMapBufferRange() is slow and memcpy() of the mapped data is also slow on Android',\n",
       " 'Finding a control in TemplatedWizardStep',\n",
       " 'WPF how to easily chain animations in code behind?',\n",
       " 'Connect to remote MongoDB instance from ASP.NET',\n",
       " 'What does --net=host option in Docker command really do?',\n",
       " 'Inject database context into classes using interface',\n",
       " 'dojo tree custom icons',\n",
       " 'Add a choicefield to search_fields in django admin',\n",
       " 'iOS app is rejected as \"Spam\"',\n",
       " 'getElementsByTagName results in NullPointerException',\n",
       " 'Combining Parsley.js validation with the malsup jQuery form plugin',\n",
       " 'Laravel 5.2 - Updated and Route group Middleware now is no longer called',\n",
       " 'C# Component collection property not serialized when filled from property setter',\n",
       " 'How to enable bokeh tools in a pyqt QWebview',\n",
       " 'How to pass JavaScript value from View to Controller?',\n",
       " 'BlueZ version in Android Honeycomb',\n",
       " \"How do I ensure nicely formatted HTML when I 'view source' on the browser?\",\n",
       " 'C# Socket BeginReceive / EndReceive capturing multiple messages',\n",
       " 'Retrieve info from MongoDB using C#',\n",
       " 'Invalid read/write of size when alloc',\n",
       " 'Why is assigning a value to the variable \"let\" possible?',\n",
       " 'Is there any way to force https for some pages in spring-security?',\n",
       " \"zClip don't work - multiple copy to clipboard JS\",\n",
       " 'ArangoDB - Executing AQL using java driver 4.0.0 using filter returns null',\n",
       " 'How to add an attribute to a field a many-to many-field selected entry of a model which is inline in django 1.2?',\n",
       " 'ASP.NET oData patchValue received from Angular is nothing',\n",
       " 'Hard Code List of Years?',\n",
       " 'Is it possible to access the state of a trigger in Angular2?',\n",
       " \"JsonConvert throws a 'not a valid integer' exception when deserializing to a double\",\n",
       " 'Use a Gnuplot variable instead of Bash Variable in a bash script + gnuplot script',\n",
       " 'How to make a query linq check date is in month, quarter or a year',\n",
       " 'Android app installation: Unknown failure (Failure - not installed for 0)',\n",
       " 'How to include the GroupBy() elements in Select() in Linq to Sql query',\n",
       " 'Does iPhone OS 3.0.1 ruin your development phone?',\n",
       " 'htaccess Rewrite URL Without .php Extension To File',\n",
       " 'NodeJs receive UDP numbers in ugly binary format',\n",
       " \"Failed to execute 'importStylesheet' on 'XSLTProcessor': parameter 1 is not of type 'Node'\",\n",
       " 'ClickOnce Error, Cannot activate a deployment with earlier version',\n",
       " 'Dynamically creating checkboxes',\n",
       " 'Is Selenium 2.0 waiting for element / page to load?',\n",
       " 'Developing Cordova plugins for Firefox OS',\n",
       " 'Implementing a \"Singleton\" like feature using internal',\n",
       " 'CSS Right Margin Does Not Work Inside a Div With Overflow Scroll',\n",
       " 'sql query to get distinct rows in let table in simple two tables',\n",
       " 'Connecting my Android phone to the DDMS SDK utility',\n",
       " 'Google Charts - switch between table and chart view',\n",
       " 'MVC Restful routing and returning Views',\n",
       " 'WPF UpdateSourceTrigger',\n",
       " 'How to launch a LWUIT form from a LCDUI form?',\n",
       " 'How do I remove from the beginning to the 2nd specific character of a string?',\n",
       " 'Create dynamic checkbox in UIWebView',\n",
       " 'Azure-cli installation failed',\n",
       " 'Uncaught SyntaxError: Unexpected token < VM105:17Uncaught ReferenceError: System is not defined',\n",
       " 'org.hibernate.StaleStateException: Batch update returned unexpected row count from update [0]; actual row count: 0; expected: 1',\n",
       " 'Show div based on selected checkboxes',\n",
       " 'Fullcalendar week view has unrecognized character',\n",
       " 'How to visualize embedded derby database?',\n",
       " 'Hyperlink URL causing resource not found error',\n",
       " 'List view item having multiple buttons',\n",
       " 'Android AWS S3 video upload occasionally does not work',\n",
       " 'Soft keyboard \"del\" key fails in EditText on Gallery widget',\n",
       " 'Compare two List<string> and print the duplicates',\n",
       " 'Need to pass string with newline character from Unix shell script to sql query',\n",
       " 'Correct way to initialize a NULL-terminated array of strings in C',\n",
       " 'How can i run this program in parallel',\n",
       " 'Exporting order details magento',\n",
       " \"Bokeh's equivalent to matplotlib subplots\",\n",
       " 'TypeScript type checking on type rather than instance',\n",
       " 'componentdef error with ant',\n",
       " 'How to setup Quartz.NET for scheduling Emails',\n",
       " 'HTML <tr> on double click show new messagebox containing table format',\n",
       " 'Getting the name or ID of the User Name TextBox from an ASP.Net Login Control',\n",
       " 'Context Free Grammar for which a RegEx is impossible',\n",
       " \"How to remove entire substring from '<' to '>' in Java\",\n",
       " \"Red5 demos don't work\",\n",
       " 'How to change the background color of a non selected cell in JavaFx 8 table view',\n",
       " \"Android Bitmap setPixel doens't work correctly? (set value, then read a different value)\",\n",
       " 'Attach Database using Management studio points to the wrong file path for the log file',\n",
       " 'Growing memory usage in MATLAB',\n",
       " 'I have issue about the design view of windows phone 8 in blend&visual 2012',\n",
       " 'get Phone Number from Facebook',\n",
       " 'Error in SendGrid on Heroku cedar stack',\n",
       " 'Mac OSX PHP and XAMPP path issue',\n",
       " 'Sharing data between Elastic Beanstalk web and worker tiers',\n",
       " 'Reroute query string using friendlyUrl',\n",
       " 'Simultaneous events',\n",
       " 'Inserting a checkbox via jQuery stops the form to submit on webkit',\n",
       " 'Memory versus Speed in Javascript Web Applications',\n",
       " 'Missing \"libiconv.h\" when crosscompiling for Windows with mingw on Ubuntu',\n",
       " 'How to setup a JMX Notification Listener?',\n",
       " 'IllegalStateException: Cannot convert value of type to required type',\n",
       " 'HTML5 video background in Android showing black',\n",
       " 'CORONA: timer.cancel() returns \"Attempt to index a nil value\"',\n",
       " 'D3js code when called twice duplicates the graph instead of refreshing',\n",
       " 'What is the shortest way of converting any JavaScript value to a string?',\n",
       " 'how should I use the velX,velY information to get the displacement in X and Y between current frame and previous frame?',\n",
       " 'How to detect headset button double click in HTC phones with broadcast receiver?',\n",
       " '(Java) Check array for increasing elements',\n",
       " 'Toast notifications only pop up if the app is being activated',\n",
       " 'Add totals from rows that are otherwise identical',\n",
       " 'Auto select item on JavaFX ComboBox after KeyPress',\n",
       " 'Why is Ebean not loading field project from ZenTasks example application?',\n",
       " 'Compile error on serializing boost::unordered_set',\n",
       " 'C++ A method that returns the decimal value as an integer of a binary that is represented with a boolean array',\n",
       " 'Using SetThreadAffinityMask function imported from kernel32.dll in C # code',\n",
       " 'Change tab names in app',\n",
       " 'apache rewrite: force https and name of server, not IP',\n",
       " 'Is it possible to generate a global list of marked strings at compile time/runtime?',\n",
       " 'PHP Content-Length header not working',\n",
       " 'How do I tell if the ObjectDataSource OnSelected event was called for the selectmethod or selectcountmethod?',\n",
       " 'set background image in Jlabel (Label) box with dynamic text',\n",
       " 'Errors with json_decode, array and foreach',\n",
       " \"Action Script 3. Timer starts count when I'm in menu, but game not started\",\n",
       " \"How to download a file with it's name using curl (C++ or D)\",\n",
       " 'query error on search result of a xml file',\n",
       " 'What do they mean when they say LINQ is composable?',\n",
       " 'How to render a Javascript and CSS for desktop devices only with client side solution?',\n",
       " 'SqlAlchemy Oracle DataTime format',\n",
       " 'Keyword sorting algorithm',\n",
       " 'Writing to textbox in another process in Win32 (c++)',\n",
       " 'How to access spring jpa references in json',\n",
       " 'passing variables to sed command',\n",
       " 'How to send a data from arduino uno to a webpage through esp8266 wifi module?',\n",
       " 'enums inside a struct - C vs C++',\n",
       " 'Binary Tree type constructor in Haskell',\n",
       " 'How to add an error to a constraint in form?',\n",
       " 'Java - Take text from file and assign matching parameter text to matching object',\n",
       " 'negative integer/float decimal number to signed hex and octal in standard C code',\n",
       " 'Programmatically append Swagger operations to generated JSON',\n",
       " 'HTTP Error 500.19 - Internal Server Error',\n",
       " 'Can we return any class object to Interceptor from action class',\n",
       " 'Cannot find existing package',\n",
       " 'Displaying an ArrayList with and without sorting?',\n",
       " 'Foreach group and subgroup dynamic loop',\n",
       " 'Display Images from internet in a windows phone 7 app?',\n",
       " 'Garbage collection with a very large dictionary',\n",
       " 'PHP - Simplest Way to Post & Display',\n",
       " 'NSCoding crash on encode only on 64bit devices',\n",
       " 'highchart mysql jason with dropdown select value for where condition',\n",
       " 'WPF Data binding C# in xaml',\n",
       " 'Making a content div fill the space between a variable height header and fixed height footer',\n",
       " 'What are some viable alternatives to BizTalk Server?',\n",
       " 'Bluebird Promise.any() early reject?',\n",
       " 'How to make non-blocking raw_input when using eventlet.monkey_patch() and why it block everything, even when executed on another thread?',\n",
       " 'How Can I Make These Links Rotate in PHP?',\n",
       " \"I18n and Passwords that aren't US-ASCII, Latin1, or Win1252\",\n",
       " 'How to add a peridic timer callback in a linux kernel module',\n",
       " \"Hide all div's except one\",\n",
       " 'How can I calculate pi using Bash command',\n",
       " 'Gson with dynamic objects',\n",
       " 'Convert iOS project to 64 bit using ConvertCocoa64 script',\n",
       " 'Material 2 - autocomplete not showing options',\n",
       " 'Laravel Valet not working. 127.0.0.1 Connection Refused',\n",
       " 'How to check column is virtual in Oracle?',\n",
       " 'Search functionality result should be in the same page in Rails',\n",
       " 'Importing values from one window to another in MATLAB GUI',\n",
       " 'how to read sql server mdf header for log file information programmatically in c#',\n",
       " 'Display progress while restoring database in linqpad with reative extensions',\n",
       " 'How to invoke a remote REST service in NiFi',\n",
       " 'Using Ajax to render partial view, taking an object as parameter',\n",
       " 'PHP fread() Function Returning Extra Characters at the Front on UTF-8 Text Files',\n",
       " 'How can I call a webservice from C# with HTTP POST',\n",
       " 'Why is there a visible gap between adjacent DIVs on iOS Safari?',\n",
       " 'Doxygen and Objective-C categories',\n",
       " 'How to send personal message to my Facebook friends in iOS SDK',\n",
       " 'Slicing NumPy array with dictionary',\n",
       " 'Should a class constructor return a subclass?',\n",
       " 'How can I programmatically set column filters?',\n",
       " 'Stackoverflow exception in JSON.net',\n",
       " 'Xcopy to multiple folder into subdirectory',\n",
       " 'Retrieving the length of a list in MongoDB',\n",
       " 'Android Database Access Design Approach',\n",
       " 'parse XML Subfolders in to iphone',\n",
       " 'Is 1 Session Token enough for multiple Ajax Request?',\n",
       " 'LNK2005: \" already defined error',\n",
       " 'Get element width in px',\n",
       " 'StreamWriter 64512 character limitation',\n",
       " 'Fixed Header & Footer not working in JqueryMobile',\n",
       " 'call a function when the program is finished with ctrl c',\n",
       " \"when implementing a binary search in Java, is using ArrayList.sublist considered 'in place'?\",\n",
       " 'Google+ Domains API 404 Not Found error',\n",
       " 'File name matching with -e and regular expressions in perl',\n",
       " 'Issue setting up Android SDK - Failed to Start Emulator',\n",
       " 'How to read Logback configuration file from path outside the war file?',\n",
       " 'Display multiple tables in datagrid',\n",
       " 'Mocha + React: navigator is not defined',\n",
       " 'matlab: eigs appears to give out inconsistent results',\n",
       " 'Passing lxml output to BeautifulSoup',\n",
       " 'Pass an array of objects with function to directives',\n",
       " 'Cocoapods Completely Broke',\n",
       " 'Reading/editing IndexedDB data for IE11',\n",
       " 'css ie6 sprities image not showing using inline-block',\n",
       " 'why is 5 the default number of connections in the rails database connection pool?',\n",
       " 'How can I make my elements fade in and out as their display attributes are changed in Javascript?',\n",
       " 'Jaggies text when fillText in canvas in chrome',\n",
       " 'Window_Load event in MVVM',\n",
       " 'Use calc() in transform:rotate()',\n",
       " 'Speed of many regular expressions in python',\n",
       " 'Notification placement on website with notify.js',\n",
       " 'image size limit on iPad?',\n",
       " 'How to remove whitespace in a list',\n",
       " 'Generate a dynamic ul li List from DB',\n",
       " 'Shopping cart program',\n",
       " 'Error Importing Jar to Android Project',\n",
       " 'Convert Varied Text Fields of Duration to Seconds in Pandas',\n",
       " 'How to POST empty <select .. multiple> HTML elements if empty?',\n",
       " 'How does Erlang heart work?',\n",
       " 'Fix spurious rspec \"photo can\\'t be blank\" failures for Carrierwave',\n",
       " 'how have different background images for different times in the day',\n",
       " 'Creating a loading Arc in C# (WPF)',\n",
       " 'some clang-generated assembly not working in real mode (.COM, tiny memory model)',\n",
       " 'Handle tunneled custom routed event',\n",
       " 'Android app Listview cannot be scrolled to bottom to search a specific element using appium in java',\n",
       " 'How to use boto.manage.cmdshell with ssh-agent?',\n",
       " 'How to create URL Link outside UI Project?',\n",
       " 'Proximity searching phrases with root expanders in Solr or ElasticSearch (especially websolr or bonsai.io)?',\n",
       " 'What is localStorage?',\n",
       " 'The easiest way to replace white spaces with (underscores) _ in bash',\n",
       " 'Not Able To Add A New User To An Existing Account Using Management API',\n",
       " 'In Emacs, how do I display a message in the minibuffer with font face properties?',\n",
       " 'codeigniter validation should work only when array of email id is not empty',\n",
       " 'Why does Phalcon 2 raise \"undefined symbol: php_pdo_get_dbh_ce in Unknown on line 0\" warning?',\n",
       " \"How to solve undefined method `to_key' for #<Book::ActiveRecord_Relation:0x007fb709a6a8c0>?\",\n",
       " \"TypeScript 0.9.* VisualStudio TS5037: Cannot compile external modules unless the '--module' flag is provided\",\n",
       " 'Cannot get my bootstrap rows on the same line',\n",
       " 'RInside on Mac OS X',\n",
       " 'Communication between two modules in AngularJs',\n",
       " 'iframe scrolling on the iphone',\n",
       " 'TURN Server use https connection for the admin session',\n",
       " 'IOUtils.copy fails 2nd time',\n",
       " 'print copyright symbol in TextView',\n",
       " \"How does codeigniter's load work?\",\n",
       " 'How to create Windows Phone 7 SMS textbox',\n",
       " 'Mock GPS location and Chrome for Android',\n",
       " 'What was Tim Sweeney thinking? (How does this C++ parser work?)',\n",
       " 'Init a class with one argument using objc_msgSend',\n",
       " 'SQL Server Management Studio Schema View',\n",
       " 'C++11 for windows XP SP1',\n",
       " 'Invalid Cast DateTime?',\n",
       " 'How to implement clock frequency multiplier using VHDL',\n",
       " 'Send an email from an iPhone app containing an img tag',\n",
       " 'Regex which ignores comments',\n",
       " 'How to implement AVAudioPlayer Inside Singleton Method?',\n",
       " 'How do I get rid of the gap left by an relative positioned div in Firefox?',\n",
       " 'What is a good method of persisting application properties?',\n",
       " 'Simple way to hook registry access for specific process',\n",
       " 'ember.js show default nested route if none provided',\n",
       " 'Using transform() and calc() in firefox',\n",
       " 'twisted passing certificate to ssl handler',\n",
       " 'Processing items in SQS queue with a php script',\n",
       " 'Dirty Reads in SQL Server AlwaysOn',\n",
       " 'Looping through generic object properties',\n",
       " 'Why is Cocoapods complaining about the embedded content contains swift setting in the build settings?',\n",
       " 'Using PHP & cron how can i inform  a user that he has got 15 days more left to pay his amount?',\n",
       " 'MVC 5: Should I inherit my User from IdentityUser class?',\n",
       " 'Preserve the tab spacing and white spaces in attributes of XML',\n",
       " 'Is it possible to refresh a timer in a Today Widget?',\n",
       " 'Jenkins copy files between 2 Server',\n",
       " 'app is crashing when i try to release nsmutablestring please help on this',\n",
       " 'Custom UIView iboutlet not set',\n",
       " 'How can I achieve float left at bottom and float right at top with css flexbox?',\n",
       " 'shell_exec() returning null on \"ls\"',\n",
       " 'How to do an XOR of the binary forms of all integer items in a list',\n",
       " 'Passing Form OpenArgs errors as NULL?',\n",
       " 'Getting quoted string using ContentValues for insertOrThrow',\n",
       " \"is there an 'afterShow' on jQuery UI datepicker?\",\n",
       " 'cell computation for tablesorter',\n",
       " 'accumulation curve in R',\n",
       " 'php script running on apache',\n",
       " 'NSString to NSData Failing in Encoding',\n",
       " 'How to match a crash\\'s \"Fault offset\" to the source code?',\n",
       " 'How to get the total number of subscribers from start date to current date?',\n",
       " 'sbt unresolved dependency for spark-cassandra-connector 2.0.2',\n",
       " 'how to remove the save button in odoo 10?',\n",
       " 'Explicit instantiation of a templated class and dynamic_cast in a shared library',\n",
       " 'Restrict keypress in wpf textbox',\n",
       " 'Rails - how to send some information from one form to other controller',\n",
       " 'Using Filemerge how to you get to see the lower pane. The one with the results in?',\n",
       " 'web.go install error',\n",
       " 'How to update the different XML element simultaneously by multiple users in single XML file?',\n",
       " 'Bootstrap Carousel does not work',\n",
       " 'Formatting textfield based on currency style',\n",
       " 'TCL : what is the major drawbacks of source command over package command',\n",
       " 'How to Declare Complex Nested C# Type for Web Service',\n",
       " 'JmsTemplate - define concurrency per queue?',\n",
       " 'Debug+Unplug vs RUN Android',\n",
       " 'Get configured wifis with ADB',\n",
       " 'Errno::EPERM (Operation not permitted FILE_PATH) when uploading image with Rails, Carrierwave, Amazon EC2',\n",
       " 'how to change xcode app icon?',\n",
       " 'adding multiple columns to a data.table, where column names are held in a vector',\n",
       " 'Find the date difference in ElasticSearch',\n",
       " 'Yii2 has many or where',\n",
       " 'Compare array values with others values from the same array',\n",
       " \"Create appointment via Exchange Web Services, set extended property only on organizer's instance\",\n",
       " 'Bokeh - how to update ColumnDataSource to plot streaming line graph using periodic callback',\n",
       " 'how to get selected rows in QTableView',\n",
       " 'Delphi-XE4 understanding threads count',\n",
       " 'Visual Studio Report Designer: Embed font',\n",
       " 'Facebook like button statistics',\n",
       " 'SQL - One record per date',\n",
       " 'Passing Parameters between xaml window and usercontrol WPF',\n",
       " \"Password field <p:password> Value Won't Re-Appear In Form After Saved And Selecting That Row From Data Table\",\n",
       " 'Extjs:Assign value to hiiden field from store',\n",
       " 'Workaround for external API which does not have CORS enabled?',\n",
       " 'How to edit epub file content with PHP',\n",
       " 'How do you handle an aggregate root with a collection of child entities whose update frequency is different than the root?',\n",
       " 'Change Select value using GWT Uniform.js',\n",
       " 'Redirect to action passes null instead of object',\n",
       " 'Convert Begin and End Coordinates into Spatial Lines in R',\n",
       " 'Using the Windows.Media.Speechrecognition namespace in a Qt C++ application',\n",
       " 'Table View Cells \"jump\" when going back from View Controller to Table View Controller',\n",
       " 'Positioning Toolbars in Eclipse/RCP',\n",
       " 'Redirect simple url to https in php codeigniter',\n",
       " 'Chrome Extension with Database API interface',\n",
       " 'Testing a web based application on Iphone',\n",
       " 'RSA encryption AND decryption with JS AND PHP',\n",
       " 'Sort Options in a Select List with javascript/jQuery.. but not alphabetically',\n",
       " 'Output tabular data with IO.ANSI',\n",
       " 'Binding Attached Behaviour from code',\n",
       " 'Set zebra list after javascript filtering',\n",
       " 'Externalizing JPA Mappings Configuration',\n",
       " 'MemoryStream Seek, Needed After Instance Creation With Buffer?',\n",
       " 'Building QGIS source code on Windows 7 - Not working',\n",
       " 'How to add/remove many-to-many relation with entity framework by entity key?',\n",
       " 'Choosing cloud storage service with web API can FTP third party server',\n",
       " 'How to pass text with new line as parameter to a bat file?',\n",
       " 'How can I populate an associative array with a variable name in bash?',\n",
       " 'Using map in Python',\n",
       " 'unable to apply three.js texture to JSON model imported from blender',\n",
       " 'XPS Viewer will not open document created using .NET printer Graphics object?',\n",
       " 'Comparing value to that of previous row depending on different field',\n",
       " 'Anomaly in GNU Prolog `delete/3` predicate?',\n",
       " 'Zend Php ORA-02391',\n",
       " 'Stream a PDF to a web page failing',\n",
       " 'Counting the frequencies of bases using for loop and substr in perl',\n",
       " 'Angular slotted transclusion with attributes',\n",
       " 'Kerberos/SPNEGO : multiple SPNs for the same AD account',\n",
       " 'React es7 static childContextTypes unexpected token',\n",
       " 'Simultaneous HttpClient request using multiple AsyncTasks',\n",
       " 'PHP extension install - phpize error - on NGINX/PHP-FPM',\n",
       " 'Redirect only WordPress homepage with a 301 redirect',\n",
       " 'Convert unicode to string',\n",
       " 'Disabling specific cell edit in DataGrid',\n",
       " 'Python and Regular Expression Substring',\n",
       " 'Workflow for Using Django South with Multiple Code Branches',\n",
       " 'How to dynamically generate CSS file from database in ASP.NET MVC',\n",
       " 'CLLocationCoordinate2D without knowing how many will be in the array?',\n",
       " 'Castle Windsor: How to register by convention with delegate method?',\n",
       " 'How to apply segment using Google Analytics .NET client',\n",
       " 'Is there a way to redirect the browser from the bootstrap in Zend Framework?',\n",
       " \"GWT RPC can't instatiate class on server side\",\n",
       " 'Load website in iframe dialog, jquery',\n",
       " 'How to execute code when textField content changes?',\n",
       " 'Recursion in C confusion',\n",
       " 'Find Leaflet map object after initialisation',\n",
       " 'WM_GETREDRAW available?',\n",
       " 'Javascript: Round Time UP nearest 5 minutes',\n",
       " 'Fatal Error Msg',\n",
       " 'New line character in VB.Net?',\n",
       " 'Finding all indices for certain input',\n",
       " 'Call function on jQuery show()',\n",
       " 'Hex sum algorithm',\n",
       " 'Run PHP using AJAX in Laravel',\n",
       " 'Eclipse hangs when trying to debug clojure project',\n",
       " 'MVC2 how is <%: tag different to <%=',\n",
       " 'What is the default PHP configuration?',\n",
       " 'How to copy entire directory structure?',\n",
       " 'Laravel Error on Repopulating: htmlentities() expects parameter 1 to be string, array given in',\n",
       " \"Threaded Beans doesn't get Environment @Autowired to them in Spring when using JSR330 Provider\",\n",
       " 'Sorting and Limiting data in MySQL',\n",
       " \"Same versions of Office.js hosted on 'beta' and '/1/'?\",\n",
       " 'SAX2 (Xerces-C): How to get the line number of parsed tags?',\n",
       " 'LVM_GETITEMPOSITION',\n",
       " 'regex match string replace in new string (notepad )',\n",
       " 'Android ImageView drag and drop positioning',\n",
       " 'Where I can find a place id on google maps',\n",
       " 'categories is undefined - rails',\n",
       " 'backbone: better way to template?',\n",
       " \"Where's my stderr going?\",\n",
       " 'Java Spring - Redirect page to \"outage\" based on db cell value.',\n",
       " 'Is there a way to open the Duplicate Detection window in CRM using javascript and without saving the record?',\n",
       " 'Energy efficiency on CPU utilization',\n",
       " 'Using same hibernate mapping files across multiple projects',\n",
       " 'Linq to XML query not picking up any values',\n",
       " 'pyqt: controlling a border widget',\n",
       " 'I am searching for the PowerBuider Foundation Classes User Guide. Preferably PDF to download',\n",
       " 'CodeIgniter - get error messages',\n",
       " 'How to read logback configuration file from system environment in tomcat 7',\n",
       " \"jQuery Ajax file upload : Required MultipartFile parameter 'file' is not present\",\n",
       " 'read xml from jsp',\n",
       " 'Adding objects to an array and then showing in a table',\n",
       " 'How do you write an exception without revealing sensitive information?',\n",
       " 'Wordcount example using Apache pig',\n",
       " 'How to know the which activity is ruuning in windows phone 7?',\n",
       " 'how to get log messages from ios app',\n",
       " 'Formula to divide data from one cell equally into multiple cells',\n",
       " 'Multiply two int arrays',\n",
       " 'Connection string error using membership provider from WCF service',\n",
       " 'Java : How to access UNC location',\n",
       " 'Permission denied to access property \"invoke\"',\n",
       " 'MvvmCross services from another assembly, not MyApp.Core',\n",
       " 'Why we should always return values from a function?',\n",
       " 'Updating iTunesArtwork and screenshots for published app',\n",
       " 'How to pass a Javascript variable to Twig in this particular example',\n",
       " 'Zebra-striping nested lists with CSS',\n",
       " 'AngularJS - Create a login page with a totally different layout',\n",
       " 'How to drop rows by name pattern in R?',\n",
       " 'Summarizing rows in a Pandas DataFrame',\n",
       " 'Equivalent of Hibernate SEQUENCE in Sybase ASE 15.5',\n",
       " 'recreating iOS SMS/Facebook Messenger text bubble tail',\n",
       " 'Border Image Confusion',\n",
       " 'How to build a numpy array row by row in a for loop?',\n",
       " 'WPF validation not working as expected',\n",
       " 'Change Tab view after certain time interval received as response from Server request',\n",
       " \"Can all 'for' loops be replaced with a LINQ statement?\",\n",
       " 'Seconds into time elapsed in JS',\n",
       " \"can't override class file in module in prestashop\",\n",
       " 'MOMC error in xCode 6.2 beta',\n",
       " 'Using a fragment as a ListView header in only one orientation',\n",
       " 'How to use unapi for biliographic in drupal',\n",
       " 'WinForms Data Binding Entity Framework 6',\n",
       " 'String masking: Confoming text to a given mask',\n",
       " \"Removing rows which contain all 0's in r\",\n",
       " 'how to add 2 background images on the sides of the page',\n",
       " 'Beginning and end of the string in Emacs regexps',\n",
       " 'multiple gremlin commands combined as one',\n",
       " 'SQL join, sum, group-by and instead of null 0',\n",
       " 'How to check cursor is on newline or not in ckeditor 4.x',\n",
       " 'Filter array result with mechanize',\n",
       " 'How to remove � character while parsing xml file in android',\n",
       " 'LINQ to Json data retrieval from polymorphic json',\n",
       " 'Running native code on Azure',\n",
       " 'Bootstrap3 Navbar fill content',\n",
       " 'Does SQL Server Compact (CE) support a RequiresNew transaction scope inside another one?',\n",
       " 'How to redirect a URL containing smartquotes via .htaccess?',\n",
       " 'Accordion open when page loads',\n",
       " 'Zurb foundation more than one joyride',\n",
       " 'Is there something like $this->db->matched_rows() in CodeIgniter?',\n",
       " 'C# LinqToSql SubmitChanges() does not update, even though PK is set',\n",
       " 'How to completely remove vitualenv?',\n",
       " 'Java rotate an image in the center',\n",
       " 'why do `#!/usr/bin/env var=val command` gets into an infinite loop',\n",
       " 'OpenTBS - Strategy for dynamic number of row, column generation in excel template (used for chart data)',\n",
       " 'Error installing Frama-C with opam (Ubuntu 14.04 LTS)',\n",
       " 'How to configure jacoco for integration tests written in jersey test framework',\n",
       " 'Video chat application : Which technology to choose?',\n",
       " 'A strange error in java generic',\n",
       " 'Pandas Split Column',\n",
       " 'How to add dynamically created tables to SQLFORM in web2py',\n",
       " 'A separate thread freezes while sending HTTP sequests',\n",
       " 'converting javascript array to a dropdown - jquery',\n",
       " 'Spring jpa modifies column names',\n",
       " 'Country, state list for SQL Server',\n",
       " 'server side control in MVC',\n",
       " 'java not saving ints correctly',\n",
       " 'Size of menu dependent on screen resolution',\n",
       " 'Add PHP API documentation to vims balloonexpr',\n",
       " 'How best to access current_user devise helper in backbone',\n",
       " 'how do I generate histogram output from an array in Java?',\n",
       " 'Modify dynamically a rdlc report (c#)',\n",
       " 'Delphi XE4 64bit _TExitDllException',\n",
       " 'java.lang.IllegalArgumentException: Failed to find configured root that contains /storage/emulated/0/Pictures/',\n",
       " 'how to use CSPARQL-ReadyToGoPack-0.9 in a SBT project',\n",
       " 'ClassNotFound exception during deploy',\n",
       " 'Dictionary Help! Extracting values and making a table',\n",
       " 'Permission to provision new site collection through workflow',\n",
       " 'How to Retrive Apple App Store Rating Details',\n",
       " 'converting UTF-8 string to ASCII in pure LUA',\n",
       " 'Retrieve rails/devise current_user from Backbone',\n",
       " 'How to create dynamic dependent list in Excel VBA?',\n",
       " 'Mysqli query return empty results',\n",
       " 'Finding the shortest path between 2 points namely S and G?',\n",
       " 'Input to print output',\n",
       " 'NHibernate - Paging with ICriteria and optional ICriteria calls',\n",
       " 'Oracle adding trailing whitespace to my to_char(date)',\n",
       " 'variable passing -v in awk not working',\n",
       " 'Routes in DART, s server required?',\n",
       " 'Why does the Server need access to Kerberos?',\n",
       " 'JQuery > ScrollTo > highlighting the item that was scrolled to',\n",
       " 'How to get the package name from JNI to Android?',\n",
       " 'How to use or condition in serverspec?',\n",
       " '7-Segment display control using Microprocessor',\n",
       " 'Newly installed IIS. Aspx page not getting displayed',\n",
       " 'Finding string length without using strlen and using function in C',\n",
       " 'force LinqToSql to submit',\n",
       " 'makedepend missing?',\n",
       " 'Array implementation on FPGA using VHDL',\n",
       " 'Would you implement a lightweight XML parser with <regex>?',\n",
       " 'Differentiating division from regex when lexing gawk code',\n",
       " 'Mssql query exec returns error',\n",
       " 'C# ASP.NET SQL Data Source',\n",
       " 'Webpage Fitting To Every Screen Reslution',\n",
       " 'Find the path of a local file or directory in javascript',\n",
       " 'What is the recommended way to append to files on HDFS?',\n",
       " 'UML modelling tool for php',\n",
       " 'Jacoco.exec file not being picked up by Sonar in Jenkins',\n",
       " 'WPF : Is it impossible to UI load in background thread?',\n",
       " \"CodeIgniter doesn't see images (using file_exists)\",\n",
       " 'SQL Server real/float precision changing during SSIS import to MS-Access database',\n",
       " 'How can I easily maintain a cross-file JavaScript Library Development Environment',\n",
       " 'Passing arguments to execfile in python 2.7',\n",
       " 'Runtime error of Console()',\n",
       " 'Is android.view.View touched now?',\n",
       " 'Play MP3/WAV files without using libraries?',\n",
       " '@ManyToMany relation not save',\n",
       " 'How to have margin on extended page tablix with SSRS',\n",
       " 'Can we export multiple non-AMD functions from a module in requirejs?',\n",
       " 'Distribution of decreasing quantity over X number of days',\n",
       " 'Assistance with Nested Dictionary',\n",
       " '-[UIScrollView zoomToRect:animated:] weird behavior when contentSize < bounds.size',\n",
       " 'Appointment.Bind() and Mailbox',\n",
       " 'I want to pull out the number of special characters and the number of vowels in each sentence using a matlab command',\n",
       " 'Setting background color of android actionbar',\n",
       " 'Add an arrow under the active menu item in HTML+CSS',\n",
       " 'Delphi - XE2 code to Delphi7 needed. Using wininet to download a file',\n",
       " 'Carriage Return showing in notepad++ but not textpad?',\n",
       " 'Django SSL for some pages only',\n",
       " \"D3 - Uncaught TypeError: Cannot read property 'length' of undefined\",\n",
       " 'How to check for network reachability on iOS in a non-blocking manner?',\n",
       " 'How do you best convert a recursive function to an iterative one?',\n",
       " 'JQuery use .on() with not selector',\n",
       " 'How to run an application in background for windows mobile 6?',\n",
       " 'Swing GUI Development with Spring',\n",
       " 'Access Get parameter with a scriptlet',\n",
       " 'Exporting HBase table to mysql',\n",
       " 'R extension breaks connection to extensions directory in NetLogo',\n",
       " 'Google App Engine Deployment Failed, \"empty index configuration\"',\n",
       " 'CRON - chown and chgrp to a directory from root user to www-data',\n",
       " 'EaselJS object inspector',\n",
       " 'Applying jQuery Resizable on a dynamically generated html data table',\n",
       " 'Running magento on other port than default 80',\n",
       " 'Liferay: what is the default approach for logging in Liferay?',\n",
       " \"UICollectionVIew : How can i remove the space on top first cell's row\",\n",
       " 'Sort a Delphi dataset',\n",
       " 'Polygon object support in Backand with an external MySQL',\n",
       " 'Multiple JavaFX stages in fullscreen mode',\n",
       " 'matching form input to mysql database value',\n",
       " 'Firemonkey IFMXLoggingService Windows Event Log Location',\n",
       " 'tpl dataflow: fixed buffer size without throwing items away',\n",
       " 'bash- Redirection inside quotes after ssh',\n",
       " 'Fetch 5 Columns and their value from Mysql query and translate into PHP',\n",
       " 'IndexedDB - Dexie JS : Dynamically create stores',\n",
       " 'How to use PackageManager to check if an app is disabled in a method',\n",
       " 'How to show notification on top of screen?',\n",
       " 'Sqlalchemy: Undefined variable from import: metadata',\n",
       " 'ansible: use different logging level for terminal and log file',\n",
       " \"How do I refresh page automatically when partial refresh doesn't work?\",\n",
       " \"TFS - What security would allow me to 'Add files' in one project and not the other?\",\n",
       " 'PHP rest API authentication',\n",
       " 'Displaying or editing data readed from floppy',\n",
       " 'What does the slash denote in postgresql virtual transaction identifiers?',\n",
       " 'Is it possible to create a bubble polar chart with Highcharts?',\n",
       " 'Mako Filter in Chameleon?',\n",
       " 'how to do select all when selected a checkbox',\n",
       " 'ExtJS floating window focus lose detection',\n",
       " 'How to hide the paging row in the gridview when exporting in excel?',\n",
       " 'Error \"No recognizer is installed\" with recognition speech',\n",
       " 'embed json file within d3.js',\n",
       " 'is there any way to create a menu bar using glut?',\n",
       " 'How does waze change objects location with their localization?',\n",
       " 'how to call cross-domain web api using ajax?',\n",
       " 'Printing Entire Contents of WebView in Cocoa, Not Just Displayed',\n",
       " 'JSON arrays with duplicate items with Hamcrest and RestAssured',\n",
       " 'How can I return an array of Promises from a then clause',\n",
       " \"Can't get run my application after installation?\",\n",
       " 'How do websites like torrentz.eu collect their content?',\n",
       " 'how to include google-map in polymer#^2.0 as it was working in polymer 1.7',\n",
       " 'How to change the reference point of an html element?',\n",
       " 'Core data executeFetchRequest consumes huge amounts of memory',\n",
       " 'Daylight Saving Cause an issue on jQuery UI datepicker on Firefox',\n",
       " \"Why can't this macro execute?\",\n",
       " 'How to get linkedin profile follower count',\n",
       " 'How to call protected constructor in c#?',\n",
       " 'Excel VBA / SQL Union',\n",
       " 'Go, Golang : array type inside struct, missing type composite literal',\n",
       " 'Unable to install bower on Openshift',\n",
       " 'Combining jQuery .val() and .contains()',\n",
       " 'CNG, CryptoServiceProvider and Managed implementations of HashAlgorithm',\n",
       " 'NSString writeToFile with URL encoded string',\n",
       " 'Django: Access pre-save object with post-save signal?',\n",
       " 'Custom Merge Function in R',\n",
       " 'Assignment makes pointer without a cast',\n",
       " 'Weird Behaviors of time in Rails application',\n",
       " 'Python-mock: how to test if super() was called',\n",
       " 'setGraphic() not working correctly on recursively created TreeItems',\n",
       " 'Strange behaviour of sscanf with string',\n",
       " 'HTTP method for a WCF Restful Service',\n",
       " 'SubSonic .Filter() in memory filter',\n",
       " 'Does ASP.NET MVC use the regular toolbox controls?',\n",
       " 'How can I render a GSP as a String?',\n",
       " 'publishing ASP.Net MVC 4 Project',\n",
       " 'how to hyperlink to a TFS item from visual studio',\n",
       " 'mutex attribute PTHREAD_PROCESS_SHARED inverts logic?',\n",
       " ...]"
      ]
     },
     "execution_count": 47,
     "metadata": {},
     "output_type": "execute_result"
    }
   ],
   "source": [
    "validation[1]"
   ]
  },
  {
   "cell_type": "code",
   "execution_count": 48,
   "metadata": {},
   "outputs": [],
   "source": [
    "from sklearn.metrics.pairwise import cosine_similarity"
   ]
  },
  {
   "cell_type": "markdown",
   "metadata": {},
   "source": [
    "We will use cosine distance to rank candidate questions which you need to implement in the function *rank_candidates*. The function should return a sorted list of pairs *(initial position in candidates list, candidate)*. Index of some pair corresponds to its rank (the first is the best). For example, if the list of candidates was *[a, b, c]* and the most similar is *c*, then *a* and *b*, the function should return a list *[(2, c), (0, a), (1, b)]*.\n",
    "\n",
    "Pay attention, if you use the function *cosine_similarity* from *sklearn.metrics.pairwise* to calculate similarity because it works in a different way: most similar objects has greatest similarity. It's preferable to use a vectorized version of *cosine_similarity* function. Try to compute similarity at once and not use list comprehension. It should speed up your computations significantly."
   ]
  },
  {
   "cell_type": "code",
   "execution_count": 49,
   "metadata": {},
   "outputs": [],
   "source": [
    "def rank_candidates(question, candidates, embeddings, dim=300):\n",
    "    \"\"\"\n",
    "        question: a string\n",
    "        candidates: a list of strings (candidates) which we want to rank\n",
    "        embeddings: some embeddings\n",
    "        dim: dimension of the current embeddings\n",
    "        \n",
    "        result: a list of pairs (initial position in the list, question)\n",
    "    \"\"\"\n",
    "    \n",
    "    ######################################\n",
    "    ######### YOUR CODE HERE #############\n",
    "    question_embedding = question_to_vec(question, embeddings, dim)\n",
    "    candidate_scores = []\n",
    "    for idx, candidate in enumerate(candidates):\n",
    "        candidate_embedding = question_to_vec(candidate, embeddings, dim)\n",
    "        cos_dist = 1 - np.dot(question_embedding, candidate_embedding )/(np.linalg.norm(question_embedding)*np.linalg.norm(candidate_embedding))\n",
    "        candidate_scores.append((cos_dist, idx, candidate))\n",
    "    candidate_scores = sorted(candidate_scores, key = lambda x: x[0])\n",
    "    result = [(idx, candidate) for (cos_dist, idx, candidate) in candidate_scores]\n",
    "    return result\n",
    "    ######################################"
   ]
  },
  {
   "cell_type": "code",
   "execution_count": 50,
   "metadata": {},
   "outputs": [
    {
     "name": "stdout",
     "output_type": "stream",
     "text": [
      "[(1, 'C# create cookie from string and send it'), (0, 'Convert Google results object (pure js) to Python object'), (2, 'How to use jQuery AJAX for an outside domain?')]\n",
      "[(0, 'Getting all list items of an unordered list in PHP'), (2, 'select2 not displaying search results'), (1, 'WPF- How to update the changes in list item of a list')]\n"
     ]
    }
   ],
   "source": [
    "import numpy as np\n",
    "questions = ['converting string to list', 'Sending array via Ajax fails']\n",
    "candidates = [['Convert Google results object (pure js) to Python object', \n",
    "                   'C# create cookie from string and send it',\n",
    "                   'How to use jQuery AJAX for an outside domain?'], \n",
    "                  ['Getting all list items of an unordered list in PHP', \n",
    "                   'WPF- How to update the changes in list item of a list', \n",
    "                   'select2 not displaying search results']]\n",
    "for question, q_candidates in zip(questions, candidates):\n",
    "        ranks = rank_candidates(question, q_candidates, wv_embeddings, 300)\n",
    "        print(ranks)\n",
    "#candidate_embeddings = np.zeros([len(candidates),300])"
   ]
  },
  {
   "cell_type": "markdown",
   "metadata": {},
   "source": [
    "Test your code on the tiny examples:"
   ]
  },
  {
   "cell_type": "code",
   "execution_count": 51,
   "metadata": {},
   "outputs": [],
   "source": [
    "def test_rank_candidates():\n",
    "    questions = ['converting string to list', 'Sending array via Ajax fails']\n",
    "    candidates = [['Convert Google results object (pure js) to Python object', \n",
    "                   'C# create cookie from string and send it',\n",
    "                   'How to use jQuery AJAX for an outside domain?'], \n",
    "                  ['Getting all list items of an unordered list in PHP', \n",
    "                   'WPF- How to update the changes in list item of a list', \n",
    "                   'select2 not displaying search results']]\n",
    "    results = [[(1, 'C# create cookie from string and send it'), \n",
    "                (0, 'Convert Google results object (pure js) to Python object'), \n",
    "                (2, 'How to use jQuery AJAX for an outside domain?')],\n",
    "               [(0, 'Getting all list items of an unordered list in PHP'), \n",
    "                (2, 'select2 not displaying search results'), \n",
    "                (1, 'WPF- How to update the changes in list item of a list')]]\n",
    "    for question, q_candidates, result in zip(questions, candidates, results):\n",
    "        ranks = rank_candidates(question, q_candidates, wv_embeddings, 300)\n",
    "        if not np.all(ranks == result):\n",
    "            return \"Check the function.\"\n",
    "    return \"Basic tests are passed.\""
   ]
  },
  {
   "cell_type": "code",
   "execution_count": 52,
   "metadata": {},
   "outputs": [
    {
     "name": "stdout",
     "output_type": "stream",
     "text": [
      "Basic tests are passed.\n"
     ]
    }
   ],
   "source": [
    "print(test_rank_candidates())"
   ]
  },
  {
   "cell_type": "markdown",
   "metadata": {},
   "source": [
    "Now we can test the quality of the current approach. Run the next two cells to get the results. Pay attention that calculation of similarity between vectors takes time and this calculation is computed approximately in 10 minutes."
   ]
  },
  {
   "cell_type": "code",
   "execution_count": 53,
   "metadata": {},
   "outputs": [
    {
     "name": "stderr",
     "output_type": "stream",
     "text": [
      "/usr/local/lib/python3.5/dist-packages/ipykernel_launcher.py:17: RuntimeWarning: invalid value encountered in double_scalars\n"
     ]
    }
   ],
   "source": [
    "wv_ranking = []\n",
    "for line in validation:\n",
    "    q, *ex = line\n",
    "    ranks = rank_candidates(q, ex, wv_embeddings)\n",
    "    wv_ranking.append([r[0] for r in ranks].index(0) + 1)"
   ]
  },
  {
   "cell_type": "code",
   "execution_count": 54,
   "metadata": {},
   "outputs": [
    {
     "name": "stdout",
     "output_type": "stream",
     "text": [
      "DCG@   1: 0.256 | Hits@   1: 0.256\n",
      "DCG@   5: 0.322 | Hits@   5: 0.382\n",
      "DCG@  10: 0.338 | Hits@  10: 0.431\n",
      "DCG@ 100: 0.384 | Hits@ 100: 0.662\n",
      "DCG@ 500: 0.419 | Hits@ 500: 0.935\n",
      "DCG@1000: 0.425 | Hits@1000: 1.000\n"
     ]
    }
   ],
   "source": [
    "for k in [1, 5, 10, 100, 500, 1000]:\n",
    "    print(\"DCG@%4d: %.3f | Hits@%4d: %.3f\" % (k, dcg_score(wv_ranking, k), k, hits_count(wv_ranking, k)))"
   ]
  },
  {
   "cell_type": "markdown",
   "metadata": {},
   "source": [
    "If you did all the steps correctly, you should be frustrated by the received results. Let's try to understand why the quality is so low. First of all, when you work with some data it is necessary to have an idea how the data looks like. Print several questions from the data:"
   ]
  },
  {
   "cell_type": "code",
   "execution_count": 55,
   "metadata": {},
   "outputs": [
    {
     "name": "stdout",
     "output_type": "stream",
     "text": [
      "How to print a binary heap tree without recursion? How do you best convert a recursive function to an iterative one? How can i use ng-model with directive in angular js flash: drawing and erasing\n",
      "How to start PhoneStateListener programmatically? PhoneStateListener and service Java cast object[] to model WCF and What does this mean?\n",
      "jQuery: Show a div2 when mousenter over div1 is over when hover on div1 depenting on if it is on div2 or not it should act differently How to run selenium in google app engine/cloud? Python Comparing two lists of strings for similarities\n"
     ]
    }
   ],
   "source": [
    "for line in validation[:3]:\n",
    "    q, *examples = line\n",
    "    print(q, *examples[:3])"
   ]
  },
  {
   "cell_type": "markdown",
   "metadata": {},
   "source": [
    "As you can see, we deal with the raw data. It means that we have many punctuation marks, special characters and unlowercased letters. In our case, it could lead to the situation where we can't find some embeddings, e.g. for the word \"grid?\". \n",
    "\n",
    "To solve this problem you should use the functions *text_prepare* from the previous assignments to prepare the data."
   ]
  },
  {
   "cell_type": "code",
   "execution_count": 56,
   "metadata": {},
   "outputs": [],
   "source": [
    "from util import text_prepare"
   ]
  },
  {
   "cell_type": "markdown",
   "metadata": {},
   "source": [
    "Now transform all the questions from the validation set: This takes some time"
   ]
  },
  {
   "cell_type": "code",
   "execution_count": 57,
   "metadata": {},
   "outputs": [],
   "source": [
    "prepared_validation = []\n",
    "for line in validation:\n",
    "    #print(len(line))\n",
    "    ######### YOUR CODE HERE #############\n",
    "    lines = []\n",
    "    for single_line in line:\n",
    "        single_line = text_prepare(single_line)\n",
    "        lines.append(single_line)\n",
    "    \n",
    "    #print(len(lines))   \n",
    "    prepared_validation.append(lines)"
   ]
  },
  {
   "cell_type": "markdown",
   "metadata": {},
   "source": [
    "Let's evaluate the approach again after the preparation:"
   ]
  },
  {
   "cell_type": "code",
   "execution_count": 58,
   "metadata": {},
   "outputs": [
    {
     "name": "stderr",
     "output_type": "stream",
     "text": [
      "/usr/local/lib/python3.5/dist-packages/ipykernel_launcher.py:17: RuntimeWarning: invalid value encountered in double_scalars\n"
     ]
    }
   ],
   "source": [
    "wv_prepared_ranking = []\n",
    "for line in prepared_validation:\n",
    "    q, *ex = line\n",
    "    ranks = rank_candidates(q, ex, wv_embeddings)\n",
    "    wv_prepared_ranking.append([r[0] for r in ranks].index(0) + 1)"
   ]
  },
  {
   "cell_type": "code",
   "execution_count": 59,
   "metadata": {},
   "outputs": [
    {
     "name": "stdout",
     "output_type": "stream",
     "text": [
      "DCG@   1: 0.384 | Hits@   1: 0.384\n",
      "DCG@   5: 0.461 | Hits@   5: 0.528\n",
      "DCG@  10: 0.478 | Hits@  10: 0.578\n",
      "DCG@ 100: 0.517 | Hits@ 100: 0.774\n",
      "DCG@ 500: 0.542 | Hits@ 500: 0.972\n",
      "DCG@1000: 0.545 | Hits@1000: 1.000\n"
     ]
    }
   ],
   "source": [
    "for k in [1, 5, 10, 100, 500, 1000]:\n",
    "    print(\"DCG@%4d: %.3f | Hits@%4d: %.3f\" % (k, dcg_score(wv_prepared_ranking, k), \n",
    "                                              k, hits_count(wv_prepared_ranking, k)))"
   ]
  },
  {
   "cell_type": "markdown",
   "metadata": {},
   "source": [
    "Now, prepare also train and test data, because you will need it in the future:"
   ]
  },
  {
   "cell_type": "code",
   "execution_count": 60,
   "metadata": {},
   "outputs": [],
   "source": [
    "def prepare_file(in_, out_):\n",
    "    out = open(out_, 'w')\n",
    "    for line in open(in_, encoding='utf8'):\n",
    "        line = line.strip().split('\\t')\n",
    "        new_line = [text_prepare(q) for q in line]\n",
    "        print(*new_line, sep='\\t', file=out)\n",
    "    out.close()"
   ]
  },
  {
   "cell_type": "code",
   "execution_count": 61,
   "metadata": {},
   "outputs": [],
   "source": [
    "######################################\n",
    "######### YOUR CODE HERE #############\n",
    "prepare_file('data/train.tsv','data/prepared_train.tsv')\n",
    "prepare_file('data/test.tsv','data/prepared_test.tsv')\n",
    "prepare_file('data/validation.tsv', 'data/prepared_validation.tsv')\n",
    "######################################"
   ]
  },
  {
   "cell_type": "markdown",
   "metadata": {},
   "source": [
    "**Task 4 (W2VTokenizedRanks).** For each question from prepared *test.tsv* submit the ranks of the candidates to earn the points. The calculations should take about 3-5 minutes. Pay attention that the function *rank_candidates* returns a ranking, while in this case you should find a position in this ranking. Ranks should start with 1."
   ]
  },
  {
   "cell_type": "code",
   "execution_count": 62,
   "metadata": {},
   "outputs": [],
   "source": [
    "from util import matrix_to_string"
   ]
  },
  {
   "cell_type": "code",
   "execution_count": 63,
   "metadata": {},
   "outputs": [
    {
     "name": "stderr",
     "output_type": "stream",
     "text": [
      "/usr/local/lib/python3.5/dist-packages/ipykernel_launcher.py:17: RuntimeWarning: invalid value encountered in double_scalars\n"
     ]
    },
    {
     "name": "stdout",
     "output_type": "stream",
     "text": [
      "Current answer for task W2VTokenizedRanks is: 95\t94\t7\t9\t64\t37\t32\t93\t24\t100\t98\t17\t60\t6\t97\t49\t70\t38\t42\t96\t30\t21\t2\t65\t67\t45\t27\t26\t57\t62\t11\t88\t56\t66\t7...\n"
     ]
    }
   ],
   "source": [
    "w2v_ranks_results = []\n",
    "prepared_test_data = 'data/prepared_test.tsv' ######### YOUR CODE HERE #############\n",
    "for line in open(prepared_test_data):\n",
    "    q, *ex = line.strip().split('\\t')\n",
    "    ranks = rank_candidates(q, ex, wv_embeddings, 300)\n",
    "    ranked_candidates = [r[0] for r in ranks]\n",
    "    w2v_ranks_results.append([ranked_candidates.index(i) + 1 for i in range(len(ranked_candidates))])\n",
    "    \n",
    "grader.submit_tag('W2VTokenizedRanks', matrix_to_string(w2v_ranks_results))"
   ]
  },
  {
   "cell_type": "markdown",
   "metadata": {},
   "source": [
    "## Advanced solution: StarSpace embeddings\n",
    "\n",
    "Now you are ready to train your own word embeddings! In particular, you need to train embeddings specially for our task of duplicates detection. Unfortunately, StarSpace cannot be run on Windows and we recommend to use provided\n",
    "[docker container](https://github.com/hse-aml/natural-language-processing/blob/master/Docker-tutorial.md) or other alternatives. Don't delete results of this task because you will need it in the final project.\n",
    "\n",
    "### How it works and what's the main difference with word2vec?\n",
    "The main point in this section is that StarSpace can be trained specifically for some tasks. In contrast to word2vec model, which tries to train similar embeddings for words in similar contexts, StarSpace uses embeddings for the whole sentence (just as a sum of embeddings of words and phrases). Despite the fact that in both cases we get word embeddings as a result of the training, StarSpace embeddings are trained using some supervised data, e.g. a set of similar sentence pairs, and thus they can better suit the task.\n",
    "\n",
    "In our case, StarSpace should use two types of sentence pairs for training: \"positive\" and \"negative\". \"Positive\" examples are extracted from the train sample (duplicates, high similarity) and the \"negative\" examples are generated randomly (low similarity assumed). \n",
    "\n",
    "### How to choose the best params for the model?\n",
    "Normally, you would start with some default choice and then run extensive experiments to compare different strategies. However, we have some recommendations ready for you to save your time:\n",
    "- Be careful with choosing the suitable training mode. In this task we want to explore texts similarity which corresponds to *trainMode = 3*.\n",
    "- Use adagrad optimization (parameter *adagrad = true*).\n",
    "- Set the length of phrase equal to 1 (parameter *ngrams*), because we need embeddings only for words.\n",
    "- Don't use a large number of *epochs* (we think that 5 should be enough).\n",
    "- Try dimension *dim* equal to 100.\n",
    "- To compare embeddings usually *cosine* *similarity* is used.\n",
    "- Set *minCount* greater than 1 (for example, 2) if you don't want to get embeddings for extremely rare words.\n",
    "- Parameter *verbose = true* could show you the progress of the training process.\n",
    "- Set parameter *fileFormat* equals *labelDoc*.\n",
    "- Parameter *negSearchLimit* is responsible for a number of negative examples which is used during the training. We think that 10 will be enought for this task.\n",
    "- To increase a speed of training we recommend to set *learning rate* to 0.05."
   ]
  },
  {
   "cell_type": "markdown",
   "metadata": {},
   "source": [
    "Train StarSpace embeddings for unigrams on the train dataset. You don't need to change the format of the input data. Just don't forget to use prepared version of the training data. \n",
    "\n",
    "If you follow the instruction, the training process will take about 1 hour."
   ]
  },
  {
   "cell_type": "code",
   "execution_count": 64,
   "metadata": {},
   "outputs": [
    {
     "name": "stdout",
     "output_type": "stream",
     "text": [
      "Arguments: \n",
      "lr: 0.05\n",
      "dim: 100\n",
      "epoch: 5\n",
      "maxTrainTime: 8640000\n",
      "saveEveryEpoch: 0\n",
      "loss: hinge\n",
      "margin: 0.05\n",
      "similarity: cosine\n",
      "maxNegSamples: 10\n",
      "negSearchLimit: 10\n",
      "thread: 10\n",
      "minCount: 2\n",
      "minCountLabel: 1\n",
      "label: __label__\n",
      "ngrams: 1\n",
      "bucket: 2000000\n",
      "adagrad: 1\n",
      "trainMode: 3\n",
      "fileFormat: labelDoc\n",
      "normalizeText: 0\n",
      "dropoutLHS: 0\n",
      "dropoutRHS: 0\n",
      "Start to initialize starspace model.\n",
      "Build dict from input file : data/prepared_train.tsv\n",
      "Read 12M words\n",
      "Number of words in dictionary:  95058\n",
      "Number of labels in dictionary: 0\n",
      "Loading data from file : data/prepared_train.tsv\n",
      "Total number of examples loaded : 999740\n",
      "Initialized model weights. Model size :\n",
      "matrix : 95058 100\n",
      "Training epoch 0: 0.05 0.01\n",
      "Epoch: 100.0%  lr: 0.040100  loss: 0.008862  eta: 0h7m  tot: 0h1m54s  (20.0%)%  lr: 0.050000  loss: 0.064852  eta: 0h11m  tot: 0h0m0s  (0.1%)2.1%  lr: 0.049840  loss: 0.039004  eta: 0h11m  tot: 0h0m2s  (0.4%)2.3%  lr: 0.049820  loss: 0.037582  eta: 0h11m  tot: 0h0m3s  (0.5%)4.0%  lr: 0.049630  loss: 0.030102  eta: 0h11m  tot: 0h0m5s  (0.8%)0h0m5s  (0.8%)6.5%  lr: 0.049359  loss: 0.025005  eta: 0h10m  tot: 0h0m8s  (1.3%)7.5%  lr: 0.049269  loss: 0.023711  eta: 0h10m  tot: 0h0m9s  (1.5%)9.8%  lr: 0.049029  loss: 0.021383  eta: 0h9m  tot: 0h0m12s  (2.0%)10.7%  lr: 0.048949  loss: 0.020608  eta: 0h10m  tot: 0h0m13s  (2.1%)12.6%  lr: 0.048799  loss: 0.019593  eta: 0h9m  tot: 0h0m15s  (2.5%)12.9%  lr: 0.048769  loss: 0.019409  eta: 0h9m  tot: 0h0m15s  (2.6%)%  lr: 0.048699  loss: 0.018957  eta: 0h9m  tot: 0h0m16s  (2.8%)15.2%  lr: 0.048529  loss: 0.018126  eta: 0h9m  tot: 0h0m18s  (3.0%)15.4%  lr: 0.048489  loss: 0.018045  eta: 0h9m  tot: 0h0m18s  (3.1%)16.6%  lr: 0.048338  loss: 0.017599  eta: 0h9m  tot: 0h0m20s  (3.3%)20.3%  lr: 0.047958  loss: 0.016136  eta: 0h10m  tot: 0h0m25s  (4.1%)25.0%  lr: 0.047518  loss: 0.014951  eta: 0h9m  tot: 0h0m31s  (5.0%)h9m  tot: 0h0m32s  (5.1%)26.2%  lr: 0.047417  loss: 0.014691  eta: 0h9m  tot: 0h0m32s  (5.2%)h9m  tot: 0h0m37s  (6.0%)31.1%  lr: 0.047027  loss: 0.013808  eta: 0h9m  tot: 0h0m38s  (6.2%)31.3%  lr: 0.047017  loss: 0.013751  eta: 0h9m  tot: 0h0m38s  (6.3%)34.0%  lr: 0.046757  loss: 0.013318  eta: 0h9m  tot: 0h0m42s  (6.8%)35.4%  lr: 0.046657  loss: 0.013145  eta: 0h9m  tot: 0h0m43s  (7.1%)38.7%  lr: 0.046296  loss: 0.012735  eta: 0h9m  tot: 0h0m47s  (7.7%)39.2%  lr: 0.046276  loss: 0.012674  eta: 0h9m  tot: 0h0m47s  (7.8%)41.1%  lr: 0.046106  loss: 0.012392  eta: 0h9m  tot: 0h0m49s  (8.2%)41.3%  lr: 0.046086  loss: 0.012375  eta: 0h9m  tot: 0h0m49s  (8.3%)43.3%  lr: 0.045886  loss: 0.012178  eta: 0h9m  tot: 0h0m51s  (8.7%)43.5%  lr: 0.045866  loss: 0.012156  eta: 0h9m  tot: 0h0m51s  (8.7%)44.6%  lr: 0.045816  loss: 0.012038  eta: 0h8m  tot: 0h0m52s  (8.9%)46.9%  lr: 0.045536  loss: 0.011797  eta: 0h8m  tot: 0h0m55s  (9.4%)49.9%  lr: 0.045225  loss: 0.011517  eta: 0h8m  tot: 0h0m58s  (10.0%)52.8%  lr: 0.044915  loss: 0.011263  eta: 0h8m  tot: 0h1m2s  (10.6%)53.3%  lr: 0.044865  loss: 0.011237  eta: 0h8m  tot: 0h1m2s  (10.7%)%  lr: 0.044795  loss: 0.011154  eta: 0h8m  tot: 0h1m3s  (10.9%)56.0%  lr: 0.044615  loss: 0.011040  eta: 0h8m  tot: 0h1m5s  (11.2%)58.0%  lr: 0.044485  loss: 0.010914  eta: 0h8m  tot: 0h1m7s  (11.6%)59.1%  lr: 0.044274  loss: 0.010831  eta: 0h8m  tot: 0h1m9s  (11.8%)61.1%  lr: 0.044024  loss: 0.010688  eta: 0h8m  tot: 0h1m11s  (12.2%)62.3%  lr: 0.043954  loss: 0.010617  eta: 0h8m  tot: 0h1m12s  (12.5%)%  lr: 0.043854  loss: 0.010572  eta: 0h8m  tot: 0h1m13s  (12.6%)63.7%  lr: 0.043744  loss: 0.010522  eta: 0h8m  tot: 0h1m14s  (12.7%)64.6%  lr: 0.043654  loss: 0.010455  eta: 0h8m  tot: 0h1m15s  (12.9%)66.6%  lr: 0.043524  loss: 0.010307  eta: 0h8m  tot: 0h1m16s  (13.3%)67.7%  lr: 0.043404  loss: 0.010232  eta: 0h8m  tot: 0h1m17s  (13.5%)67.9%  lr: 0.043373  loss: 0.010224  eta: 0h8m  tot: 0h1m18s  (13.6%)69.9%  lr: 0.043213  loss: 0.010121  eta: 0h8m  tot: 0h1m19s  (14.0%)71.1%  lr: 0.043103  loss: 0.010063  eta: 0h8m  tot: 0h1m21s  (14.2%)73.0%  lr: 0.042963  loss: 0.009936  eta: 0h8m  tot: 0h1m23s  (14.6%)73.8%  lr: 0.042863  loss: 0.009902  eta: 0h8m  tot: 0h1m23s  (14.8%)75.1%  lr: 0.042743  loss: 0.009831  eta: 0h8m  tot: 0h1m25s  (15.0%)76.8%  lr: 0.042593  loss: 0.009734  eta: 0h8m  tot: 0h1m27s  (15.4%)79.0%  lr: 0.042352  loss: 0.009642  eta: 0h7m  tot: 0h1m29s  (15.8%)80.3%  lr: 0.042272  loss: 0.009603  eta: 0h7m  tot: 0h1m31s  (16.1%)81.6%  lr: 0.042122  loss: 0.009538  eta: 0h7m  tot: 0h1m32s  (16.3%)86.2%  lr: 0.041682  loss: 0.009359  eta: 0h7m  tot: 0h1m37s  (17.2%)86.2%  lr: 0.041652  loss: 0.009358  eta: 0h7m  tot: 0h1m37s  (17.2%)86.3%  lr: 0.041602  loss: 0.009355  eta: 0h7m  tot: 0h1m37s  (17.3%)87.3%  lr: 0.041422  loss: 0.009317  eta: 0h7m  tot: 0h1m38s  (17.5%)0.009243  eta: 0h7m  tot: 0h1m41s  (18.0%)90.3%  lr: 0.041131  loss: 0.009224  eta: 0h7m  tot: 0h1m42s  (18.1%)91.4%  lr: 0.041001  loss: 0.009198  eta: 0h7m  tot: 0h1m43s  (18.3%)92.4%  lr: 0.040831  loss: 0.009156  eta: 0h7m  tot: 0h1m44s  (18.5%)92.5%  lr: 0.040801  loss: 0.009147  eta: 0h7m  tot: 0h1m45s  (18.5%)94.0%  lr: 0.040631  loss: 0.009100  eta: 0h7m  tot: 0h1m46s  (18.8%)94.5%  lr: 0.040591  loss: 0.009073  eta: 0h7m  tot: 0h1m47s  (18.9%)95.6%  lr: 0.040511  loss: 0.009033  eta: 0h7m  tot: 0h1m48s  (19.1%)96.0%  lr: 0.040501  loss: 0.009016  eta: 0h7m  tot: 0h1m48s  (19.2%)96.7%  lr: 0.040451  loss: 0.008994  eta: 0h7m  tot: 0h1m49s  (19.3%)97.0%  lr: 0.040411  loss: 0.008981  eta: 0h7m  tot: 0h1m49s  (19.4%)97.0%  lr: 0.040401  loss: 0.008977  eta: 0h7m  tot: 0h1m50s  (19.4%)99.3%  lr: 0.040170  loss: 0.008888  eta: 0h7m  tot: 0h1m53s  (19.9%)99.4%  lr: 0.040160  loss: 0.008884  eta: 0h7m  tot: 0h1m53s  (19.9%)99.9%  lr: 0.040110  loss: 0.008865  eta: 0h7m  tot: 0h1m53s  (20.0%)\n",
      " ---+++                Epoch    0 Train error : 0.00893009 +++--- ���\n",
      "Training epoch 1: 0.04 0.01\n"
     ]
    },
    {
     "name": "stdout",
     "output_type": "stream",
     "text": [
      "Epoch: 100.0%  lr: 0.030120  loss: 0.002720  eta: 0h5m  tot: 0h3m42s  (40.0%).3%  lr: 0.039840  loss: 0.002864  eta: 0h10m  tot: 0h1m58s  (20.3%)2.2%  lr: 0.039740  loss: 0.002502  eta: 0h8m  tot: 0h1m59s  (20.4%)%  lr: 0.039620  loss: 0.002538  eta: 0h9m  tot: 0h2m0s  (20.6%)5.0%  lr: 0.039399  loss: 0.002566  eta: 0h8m  tot: 0h2m3s  (21.0%)5.9%  lr: 0.039369  loss: 0.002599  eta: 0h8m  tot: 0h2m4s  (21.2%)6.5%  lr: 0.039199  loss: 0.002586  eta: 0h8m  tot: 0h2m4s  (21.3%)7.0%  lr: 0.039149  loss: 0.002566  eta: 0h8m  tot: 0h2m5s  (21.4%)8.7%  lr: 0.039009  loss: 0.002633  eta: 0h7m  tot: 0h2m6s  (21.7%)11.5%  lr: 0.038729  loss: 0.002710  eta: 0h7m  tot: 0h2m9s  (22.3%)11.9%  lr: 0.038709  loss: 0.002686  eta: 0h7m  tot: 0h2m9s  (22.4%)12.2%  lr: 0.038679  loss: 0.002712  eta: 0h7m  tot: 0h2m10s  (22.4%)13.7%  lr: 0.038489  loss: 0.002705  eta: 0h7m  tot: 0h2m11s  (22.7%)16.8%  lr: 0.038168  loss: 0.002792  eta: 0h6m  tot: 0h2m14s  (23.4%)17.9%  lr: 0.038108  loss: 0.002796  eta: 0h6m  tot: 0h2m16s  (23.6%)21.1%  lr: 0.037848  loss: 0.002794  eta: 0h6m  tot: 0h2m19s  (24.2%)22.4%  lr: 0.037758  loss: 0.002817  eta: 0h6m  tot: 0h2m20s  (24.5%)22s  (24.9%)%  lr: 0.036877  loss: 0.002813  eta: 0h6m  tot: 0h2m29s  (26.2%)33.0%  lr: 0.036747  loss: 0.002779  eta: 0h6m  tot: 0h2m31s  (26.6%)33.2%  lr: 0.036737  loss: 0.002784  eta: 0h6m  tot: 0h2m31s  (26.6%)38.3%  lr: 0.036236  loss: 0.002774  eta: 0h6m  tot: 0h2m36s  (27.7%)38.5%  lr: 0.036206  loss: 0.002766  eta: 0h6m  tot: 0h2m36s  (27.7%)6m  tot: 0h2m37s  (27.8%)39.5%  lr: 0.036116  loss: 0.002768  eta: 0h6m  tot: 0h2m37s  (27.9%)39.7%  lr: 0.036116  loss: 0.002772  eta: 0h6m  tot: 0h2m37s  (27.9%)39.8%  lr: 0.036096  loss: 0.002775  eta: 0h6m  tot: 0h2m37s  (28.0%)43.7%  lr: 0.035756  loss: 0.002767  eta: 0h6m  tot: 0h2m41s  (28.7%)45.2%  lr: 0.035646  loss: 0.002768  eta: 0h6m  tot: 0h2m43s  (29.0%)45.3%  lr: 0.035646  loss: 0.002775  eta: 0h6m  tot: 0h2m43s  (29.1%)48.5%  lr: 0.035215  loss: 0.002763  eta: 0h6m  tot: 0h2m47s  (29.7%)50.9%  lr: 0.035005  loss: 0.002757  eta: 0h6m  tot: 0h2m49s  (30.2%)51.9%  lr: 0.034915  loss: 0.002758  eta: 0h6m  tot: 0h2m50s  (30.4%)54.0%  lr: 0.034725  loss: 0.002747  eta: 0h5m  tot: 0h2m52s  (30.8%)54.7%  lr: 0.034635  loss: 0.002753  eta: 0h6m  tot: 0h2m53s  (30.9%)55.4%  lr: 0.034575  loss: 0.002745  eta: 0h6m  tot: 0h2m54s  (31.1%)56.4%  lr: 0.034455  loss: 0.002743  eta: 0h6m  tot: 0h2m55s  (31.3%)57.6%  lr: 0.034344  loss: 0.002743  eta: 0h5m  tot: 0h2m56s  (31.5%)58.8%  lr: 0.034284  loss: 0.002738  eta: 0h5m  tot: 0h2m58s  (31.8%)58.9%  lr: 0.034264  loss: 0.002740  eta: 0h5m  tot: 0h2m58s  (31.8%)59.1%  lr: 0.034244  loss: 0.002746  eta: 0h5m  tot: 0h2m58s  (31.8%)62.6%  lr: 0.033944  loss: 0.002742  eta: 0h5m  tot: 0h3m1s  (32.5%)65.3%  lr: 0.033694  loss: 0.002763  eta: 0h5m  tot: 0h3m4s  (33.1%)65.9%  lr: 0.033664  loss: 0.002776  eta: 0h5m  tot: 0h3m5s  (33.2%)66.2%  lr: 0.033624  loss: 0.002773  eta: 0h5m  tot: 0h3m5s  (33.2%)66.9%  lr: 0.033474  loss: 0.002777  eta: 0h5m  tot: 0h3m6s  (33.4%)69.2%  lr: 0.033303  loss: 0.002760  eta: 0h5m  tot: 0h3m8s  (33.8%)71.7%  lr: 0.033053  loss: 0.002749  eta: 0h5m  tot: 0h3m11s  (34.3%)%  lr: 0.032833  loss: 0.002751  eta: 0h5m  tot: 0h3m13s  (34.8%)75.1%  lr: 0.032723  loss: 0.002759  eta: 0h5m  tot: 0h3m15s  (35.0%)77.1%  lr: 0.032533  loss: 0.002749  eta: 0h5m  tot: 0h3m17s  (35.4%)80.3%  lr: 0.032222  loss: 0.002738  eta: 0h5m  tot: 0h3m20s  (36.1%)80.7%  lr: 0.032132  loss: 0.002737  eta: 0h5m  tot: 0h3m21s  (36.1%)82.3%  lr: 0.031922  loss: 0.002736  eta: 0h5m  tot: 0h3m22s  (36.5%)83.6%  lr: 0.031732  loss: 0.002733  eta: 0h5m  tot: 0h3m24s  (36.7%)84.6%  lr: 0.031632  loss: 0.002731  eta: 0h5m  tot: 0h3m25s  (36.9%)85.0%  lr: 0.031602  loss: 0.002730  eta: 0h5m  tot: 0h3m25s  (37.0%)85.7%  lr: 0.031562  loss: 0.002735  eta: 0h5m  tot: 0h3m26s  (37.1%)86.5%  lr: 0.031432  loss: 0.002729  eta: 0h5m  tot: 0h3m27s  (37.3%)88.0%  lr: 0.031261  loss: 0.002730  eta: 0h5m  tot: 0h3m28s  (37.6%)90.4%  lr: 0.031061  loss: 0.002731  eta: 0h5m  tot: 0h3m31s  (38.1%)92.7%  lr: 0.030791  loss: 0.002723  eta: 0h5m  tot: 0h3m34s  (38.5%)m  tot: 0h3m35s  (38.7%)93.4%  lr: 0.030771  loss: 0.002724  eta: 0h5m  tot: 0h3m35s  (38.7%)%  lr: 0.030761  loss: 0.002726  eta: 0h5m  tot: 0h3m35s  (38.7%)94.4%  lr: 0.030661  loss: 0.002722  eta: 0h5m  tot: 0h3m36s  (38.9%)94.7%  lr: 0.030661  loss: 0.002724  eta: 0h5m  tot: 0h3m36s  (38.9%)94.9%  lr: 0.030661  loss: 0.002722  eta: 0h5m  tot: 0h3m36s  (39.0%)96.3%  lr: 0.030561  loss: 0.002723  eta: 0h5m  tot: 0h3m38s  (39.3%)98.5%  lr: 0.030320  loss: 0.002720  eta: 0h5m  tot: 0h3m40s  (39.7%)98.7%  lr: 0.030290  loss: 0.002722  eta: 0h5m  tot: 0h3m40s  (39.7%)99.8%  lr: 0.030150  loss: 0.002719  eta: 0h5m  tot: 0h3m41s  (40.0%)\n",
      " ---+++                Epoch    1 Train error : 0.00265941 +++--- ���\n",
      "Training epoch 2: 0.03 0.01\n"
     ]
    },
    {
     "name": "stdout",
     "output_type": "stream",
     "text": [
      "Epoch: 100.0%  lr: 0.020250  loss: 0.001902  eta: 0h3m  tot: 0h5m31s  (60.0%)4%  lr: 0.029940  loss: 0.001498  eta: 0h6m  tot: 0h3m44s  (40.1%)0.6%  lr: 0.029890  loss: 0.001512  eta: 0h6m  tot: 0h3m45s  (40.1%)%  lr: 0.029860  loss: 0.001489  eta: 0h7m  tot: 0h3m45s  (40.2%)1.1%  lr: 0.029850  loss: 0.001555  eta: 0h7m  tot: 0h3m46s  (40.2%)1.7%  lr: 0.029750  loss: 0.001472  eta: 0h7m  tot: 0h3m47s  (40.3%)s  (40.6%)3.3%  lr: 0.029650  loss: 0.001595  eta: 0h7m  tot: 0h3m49s  (40.7%)4.3%  lr: 0.029590  loss: 0.001762  eta: 0h6m  tot: 0h3m50s  (40.9%)4.5%  lr: 0.029570  loss: 0.001760  eta: 0h7m  tot: 0h3m50s  (40.9%)5.7%  lr: 0.029419  loss: 0.001744  eta: 0h7m  tot: 0h3m52s  (41.1%)6.1%  lr: 0.029389  loss: 0.001732  eta: 0h7m  tot: 0h3m53s  (41.2%)7.8%  lr: 0.029269  loss: 0.001734  eta: 0h6m  tot: 0h3m55s  (41.6%)8.5%  lr: 0.029199  loss: 0.001778  eta: 0h6m  tot: 0h3m55s  (41.7%)%  lr: 0.029189  loss: 0.001786  eta: 0h6m  tot: 0h3m56s  (41.8%)9.2%  lr: 0.029159  loss: 0.001794  eta: 0h6m  tot: 0h3m56s  (41.8%)10.5%  lr: 0.028979  loss: 0.001780  eta: 0h6m  tot: 0h3m58s  (42.1%)10.7%  lr: 0.028949  loss: 0.001765  eta: 0h6m  tot: 0h3m58s  (42.1%)13.0%  lr: 0.028719  loss: 0.001792  eta: 0h5m  tot: 0h4m0s  (42.6%)14.9%  lr: 0.028519  loss: 0.001772  eta: 0h5m  tot: 0h4m2s  (43.0%)16.2%  lr: 0.028358  loss: 0.001755  eta: 0h5m  tot: 0h4m3s  (43.2%)19.4%  lr: 0.028108  loss: 0.001762  eta: 0h5m  tot: 0h4m6s  (43.9%)22.8%  lr: 0.027758  loss: 0.001786  eta: 0h5m  tot: 0h4m9s  (44.6%)27.0%  lr: 0.027377  loss: 0.001818  eta: 0h4m  tot: 0h4m13s  (45.4%)29.3%  lr: 0.027117  loss: 0.001835  eta: 0h4m  tot: 0h4m15s  (45.9%)29.5%  lr: 0.027097  loss: 0.001833  eta: 0h4m  tot: 0h4m16s  (45.9%)29.8%  lr: 0.027067  loss: 0.001832  eta: 0h4m  tot: 0h4m16s  (46.0%)30.9%  lr: 0.026977  loss: 0.001820  eta: 0h4m  tot: 0h4m17s  (46.2%)33.6%  lr: 0.026757  loss: 0.001837  eta: 0h4m  tot: 0h4m20s  (46.7%)36.6%  lr: 0.026467  loss: 0.001848  eta: 0h4m  tot: 0h4m23s  (47.3%)36.8%  lr: 0.026436  loss: 0.001847  eta: 0h4m  tot: 0h4m23s  (47.4%)37.6%  lr: 0.026376  loss: 0.001846  eta: 0h4m  tot: 0h4m24s  (47.5%)38.8%  lr: 0.026296  loss: 0.001852  eta: 0h4m  tot: 0h4m26s  (47.8%)41.4%  lr: 0.025966  loss: 0.001852  eta: 0h4m  tot: 0h4m29s  (48.3%)42.1%  lr: 0.025896  loss: 0.001865  eta: 0h4m  tot: 0h4m30s  (48.4%)42.2%  lr: 0.025876  loss: 0.001864  eta: 0h4m  tot: 0h4m30s  (48.4%)42.7%  lr: 0.025806  loss: 0.001865  eta: 0h4m  tot: 0h4m31s  (48.5%)44.3%  lr: 0.025636  loss: 0.001859  eta: 0h4m  tot: 0h4m33s  (48.9%)45.7%  lr: 0.025526  loss: 0.001859  eta: 0h4m  tot: 0h4m34s  (49.1%)46.1%  lr: 0.025476  loss: 0.001859  eta: 0h4m  tot: 0h4m35s  (49.2%)47.3%  lr: 0.025405  loss: 0.001849  eta: 0h4m  tot: 0h4m36s  (49.5%)47.5%  lr: 0.025395  loss: 0.001848  eta: 0h4m  tot: 0h4m37s  (49.5%)49.7%  lr: 0.025195  loss: 0.001850  eta: 0h4m  tot: 0h4m39s  (49.9%)51.7%  lr: 0.025095  loss: 0.001848  eta: 0h4m  tot: 0h4m41s  (50.3%)53.1%  lr: 0.024995  loss: 0.001854  eta: 0h4m  tot: 0h4m42s  (50.6%)53.2%  lr: 0.024985  loss: 0.001854  eta: 0h4m  tot: 0h4m42s  (50.6%)%  lr: 0.024865  loss: 0.001858  eta: 0h4m  tot: 0h4m44s  (51.1%)%  lr: 0.024825  loss: 0.001857  eta: 0h4m  tot: 0h4m45s  (51.1%)58.1%  lr: 0.024525  loss: 0.001866  eta: 0h4m  tot: 0h4m47s  (51.6%)61.6%  lr: 0.024164  loss: 0.001873  eta: 0h4m  tot: 0h4m51s  (52.3%)61.9%  lr: 0.024144  loss: 0.001873  eta: 0h4m  tot: 0h4m51s  (52.4%)63.5%  lr: 0.024064  loss: 0.001877  eta: 0h4m  tot: 0h4m52s  (52.7%)63.6%  lr: 0.024044  loss: 0.001878  eta: 0h4m  tot: 0h4m52s  (52.7%)63.9%  lr: 0.024014  loss: 0.001877  eta: 0h4m  tot: 0h4m53s  (52.8%)69.2%  lr: 0.023263  loss: 0.001878  eta: 0h4m  tot: 0h4m59s  (53.8%)69.7%  lr: 0.023213  loss: 0.001879  eta: 0h4m  tot: 0h4m59s  (53.9%)70.8%  lr: 0.023093  loss: 0.001881  eta: 0h4m  tot: 0h5m1s  (54.2%)%  lr: 0.023093  loss: 0.001880  eta: 0h4m  tot: 0h5m1s  (54.2%)71.5%  lr: 0.023013  loss: 0.001878  eta: 0h4m  tot: 0h5m3s  (54.3%)72.6%  lr: 0.022873  loss: 0.001877  eta: 0h4m  tot: 0h5m4s  (54.5%)73.3%  lr: 0.022763  loss: 0.001875  eta: 0h4m  tot: 0h5m5s  (54.7%)73.5%  lr: 0.022753  loss: 0.001876  eta: 0h4m  tot: 0h5m5s  (54.7%)76.5%  lr: 0.022483  loss: 0.001886  eta: 0h4m  tot: 0h5m8s  (55.3%)80.4%  lr: 0.022032  loss: 0.001889  eta: 0h3m  tot: 0h5m12s  (56.1%)80.8%  lr: 0.022002  loss: 0.001888  eta: 0h3m  tot: 0h5m12s  (56.2%)81.6%  lr: 0.021952  loss: 0.001888  eta: 0h3m  tot: 0h5m13s  (56.3%)85.0%  lr: 0.021662  loss: 0.001877  eta: 0h3m  tot: 0h5m16s  (57.0%)85.1%  lr: 0.021642  loss: 0.001877  eta: 0h3m  tot: 0h5m16s  (57.0%)86.4%  lr: 0.021492  loss: 0.001878  eta: 0h3m  tot: 0h5m18s  (57.3%)86.7%  lr: 0.021492  loss: 0.001879  eta: 0h3m  tot: 0h5m18s  (57.3%)57.4%)87.1%  lr: 0.021442  loss: 0.001880  eta: 0h3m  tot: 0h5m18s  (57.4%)89.2%  lr: 0.021261  loss: 0.001881  eta: 0h3m  tot: 0h5m21s  (57.8%)93.7%  lr: 0.020881  loss: 0.001891  eta: 0h3m  tot: 0h5m25s  (58.7%)95.2%  lr: 0.020671  loss: 0.001896  eta: 0h3m  tot: 0h5m27s  (59.0%)\n",
      " ---+++                Epoch    2 Train error : 0.00188186 +++--- ���\n",
      "Training epoch 3: 0.02 0.01\n"
     ]
    },
    {
     "name": "stdout",
     "output_type": "stream",
     "text": [
      "Epoch: 100.0%  lr: 0.010100  loss: 0.001530  eta: 0h1m  tot: 0h7m18s  (80.0%).1%)1.4%  lr: 0.019830  loss: 0.001210  eta: 0h3m  tot: 0h5m36s  (60.3%)3.2%  lr: 0.019710  loss: 0.001463  eta: 0h3m  tot: 0h5m38s  (60.6%)%  lr: 0.019590  loss: 0.001472  eta: 0h3m  tot: 0h5m39s  (60.9%)5.1%  lr: 0.019540  loss: 0.001426  eta: 0h3m  tot: 0h5m40s  (61.0%)7.7%  lr: 0.019269  loss: 0.001483  eta: 0h3m  tot: 0h5m42s  (61.5%)9.2%  lr: 0.019179  loss: 0.001454  eta: 0h3m  tot: 0h5m44s  (61.8%)11.3%  lr: 0.019059  loss: 0.001440  eta: 0h3m  tot: 0h5m45s  (62.3%)11.7%  lr: 0.018989  loss: 0.001459  eta: 0h3m  tot: 0h5m46s  (62.3%)12.2%  lr: 0.018979  loss: 0.001443  eta: 0h3m  tot: 0h5m46s  (62.4%)17.4%  lr: 0.018418  loss: 0.001414  eta: 0h3m  tot: 0h5m51s  (63.5%)23.3%  lr: 0.017818  loss: 0.001471  eta: 0h2m  tot: 0h5m58s  (64.7%)25.7%  lr: 0.017538  loss: 0.001470  eta: 0h2m  tot: 0h6m1s  (65.1%)25.8%  lr: 0.017528  loss: 0.001471  eta: 0h2m  tot: 0h6m1s  (65.2%)26.8%  lr: 0.017417  loss: 0.001464  eta: 0h3m  tot: 0h6m2s  (65.4%)31.1%  lr: 0.016997  loss: 0.001504  eta: 0h2m  tot: 0h6m7s  (66.2%)33.3%  lr: 0.016757  loss: 0.001526  eta: 0h2m  tot: 0h6m9s  (66.7%)  loss: 0.001524  eta: 0h2m  tot: 0h6m10s  (66.8%)  eta: 0h2m  tot: 0h6m11s  (67.0%)36.9%  lr: 0.016096  loss: 0.001541  eta: 0h2m  tot: 0h6m14s  (67.4%)41.8%  lr: 0.015626  loss: 0.001556  eta: 0h2m  tot: 0h6m19s  (68.4%)47.1%  lr: 0.015125  loss: 0.001553  eta: 0h2m  tot: 0h6m24s  (69.4%)48.3%  lr: 0.015015  loss: 0.001555  eta: 0h2m  tot: 0h6m26s  (69.7%)51.6%  lr: 0.014765  loss: 0.001546  eta: 0h2m  tot: 0h6m29s  (70.3%)53.7%  lr: 0.014565  loss: 0.001543  eta: 0h2m  tot: 0h6m31s  (70.7%)%)60.1%  lr: 0.014014  loss: 0.001547  eta: 0h2m  tot: 0h6m38s  (72.0%)63.4%  lr: 0.013684  loss: 0.001565  eta: 0h2m  tot: 0h6m41s  (72.7%)67.6%  lr: 0.013353  loss: 0.001558  eta: 0h2m  tot: 0h6m45s  (73.5%)68.1%  lr: 0.013293  loss: 0.001555  eta: 0h2m  tot: 0h6m46s  (73.6%)68.4%  lr: 0.013253  loss: 0.001555  eta: 0h2m  tot: 0h6m46s  (73.7%)69.3%  lr: 0.013193  loss: 0.001559  eta: 0h2m  tot: 0h6m47s  (73.9%)69.5%  lr: 0.013163  loss: 0.001560  eta: 0h2m  tot: 0h6m47s  (73.9%)71.6%  lr: 0.012993  loss: 0.001561  eta: 0h2m  tot: 0h6m49s  (74.3%)71.7%  lr: 0.012993  loss: 0.001561  eta: 0h2m  tot: 0h6m49s  (74.3%)72.9%  lr: 0.012853  loss: 0.001559  eta: 0h2m  tot: 0h6m51s  (74.6%)74.6%  lr: 0.012773  loss: 0.001558  eta: 0h2m  tot: 0h6m52s  (74.9%)75.0%  lr: 0.012733  loss: 0.001558  eta: 0h2m  tot: 0h6m53s  (75.0%)76.2%  lr: 0.012613  loss: 0.001558  eta: 0h2m  tot: 0h6m54s  (75.2%)77.7%  lr: 0.012533  loss: 0.001552  eta: 0h2m  tot: 0h6m55s  (75.5%)77.9%  lr: 0.012513  loss: 0.001552  eta: 0h2m  tot: 0h6m55s  (75.6%)78.0%  lr: 0.012463  loss: 0.001552  eta: 0h2m  tot: 0h6m55s  (75.6%)83.6%  lr: 0.011872  loss: 0.001545  eta: 0h2m  tot: 0h7m1s  (76.7%)83.8%  lr: 0.011852  loss: 0.001544  eta: 0h2m  tot: 0h7m1s  (76.8%)85.0%  lr: 0.011772  loss: 0.001542  eta: 0h1m  tot: 0h7m3s  (77.0%)87.1%  lr: 0.011562  loss: 0.001541  eta: 0h1m  tot: 0h7m5s  (77.4%)%  lr: 0.011131  loss: 0.001533  eta: 0h1m  tot: 0h7m8s  (78.0%)90.7%  lr: 0.011081  loss: 0.001537  eta: 0h1m  tot: 0h7m8s  (78.1%)90.8%  lr: 0.011071  loss: 0.001536  eta: 0h1m  tot: 0h7m9s  (78.2%)93.1%  lr: 0.010821  loss: 0.001538  eta: 0h1m  tot: 0h7m11s  (78.6%)93.3%  lr: 0.010821  loss: 0.001537  eta: 0h1m  tot: 0h7m11s  (78.7%)0.001536  eta: 0h1m  tot: 0h7m11s  (78.7%)%  lr: 0.010661  loss: 0.001536  eta: 0h1m  tot: 0h7m12s  (78.9%)97.4%  lr: 0.010350  loss: 0.001531  eta: 0h1m  tot: 0h7m15s  (79.5%)98.9%  lr: 0.010210  loss: 0.001532  eta: 0h1m  tot: 0h7m17s  (79.8%)\n",
      " ---+++                Epoch    3 Train error : 0.00154835 +++--- ���\n",
      "Training epoch 4: 0.01 0.01\n",
      "Epoch: 100.0%  lr: 0.000631  loss: 0.001380  eta: <1min   tot: 0h8m54s  (100.0%)%  lr: 0.009600  loss: 0.001369  eta: 0h1m  tot: 0h7m23s  (80.8%)8.9%  lr: 0.009129  loss: 0.001483  eta: 0h1m  tot: 0h7m27s  (81.8%)10.0%  lr: 0.009049  loss: 0.001462  eta: 0h1m  tot: 0h7m29s  (82.0%)10.5%  lr: 0.009019  loss: 0.001450  eta: 0h1m  tot: 0h7m29s  (82.1%)10.7%  lr: 0.008989  loss: 0.001433  eta: 0h1m  tot: 0h7m29s  (82.1%)11.1%  lr: 0.008979  loss: 0.001419  eta: 0h1m  tot: 0h7m30s  (82.2%)12.7%  lr: 0.008819  loss: 0.001449  eta: 0h1m  tot: 0h7m31s  (82.5%)14.0%  lr: 0.008719  loss: 0.001440  eta: 0h1m  tot: 0h7m32s  (82.8%)14.3%  lr: 0.008659  loss: 0.001434  eta: 0h1m  tot: 0h7m33s  (82.9%)16.9%  lr: 0.008479  loss: 0.001449  eta: 0h1m  tot: 0h7m35s  (83.4%)19.3%  lr: 0.008268  loss: 0.001490  eta: 0h1m  tot: 0h7m37s  (83.9%)20.1%  lr: 0.008168  loss: 0.001482  eta: 0h1m  tot: 0h7m38s  (84.0%)20.8%  lr: 0.008088  loss: 0.001490  eta: 0h1m  tot: 0h7m38s  (84.2%)23.6%  lr: 0.007818  loss: 0.001491  eta: 0h1m  tot: 0h7m41s  (84.7%)27.0%  lr: 0.007508  loss: 0.001467  eta: 0h1m  tot: 0h7m44s  (85.4%)29.4%  lr: 0.007327  loss: 0.001449  eta: 0h1m  tot: 0h7m46s  (85.9%)31.1%  lr: 0.007257  loss: 0.001430  eta: 0h1m  tot: 0h7m48s  (86.2%)32.3%  lr: 0.007147  loss: 0.001418  eta: 0h1m  tot: 0h7m49s  (86.5%)33.6%  lr: 0.006967  loss: 0.001429  eta: 0h1m  tot: 0h7m50s  (86.7%)34.4%  lr: 0.006887  loss: 0.001414  eta: 0h1m  tot: 0h7m51s  (86.9%)41.9%  lr: 0.006296  loss: 0.001393  eta: <1min   tot: 0h7m57s  (88.4%)42.3%  lr: 0.006236  loss: 0.001394  eta: <1min   tot: 0h7m58s  (88.5%)42.8%  lr: 0.006196  loss: 0.001391  eta: <1min   tot: 0h7m58s  (88.6%)88.7%)43.5%  lr: 0.006126  loss: 0.001385  eta: <1min   tot: 0h7m59s  (88.7%)43.7%  lr: 0.006116  loss: 0.001384  eta: <1min   tot: 0h7m59s  (88.7%) (89.3%)47.8%  lr: 0.005716  loss: 0.001395  eta: <1min   tot: 0h8m3s  (89.6%)47.9%  lr: 0.005716  loss: 0.001396  eta: <1min   tot: 0h8m3s  (89.6%)48.3%  lr: 0.005676  loss: 0.001396  eta: <1min   tot: 0h8m4s  (89.7%)53.3%  lr: 0.005215  loss: 0.001386  eta: <1min   tot: 0h8m8s  (90.7%)54.9%  lr: 0.005095  loss: 0.001389  eta: <1min   tot: 0h8m10s  (91.0%)55.5%  lr: 0.005015  loss: 0.001386  eta: <1min   tot: 0h8m10s  (91.1%)56.4%  lr: 0.004965  loss: 0.001389  eta: <1min   tot: 0h8m11s  (91.3%)56.6%  lr: 0.004965  loss: 0.001388  eta: <1min   tot: 0h8m11s  (91.3%)%  lr: 0.004945  loss: 0.001389  eta: <1min   tot: 0h8m12s  (91.4%)57.7%  lr: 0.004885  loss: 0.001391  eta: <1min   tot: 0h8m12s  (91.5%)61.7%  lr: 0.004525  loss: 0.001399  eta: <1min   tot: 0h8m16s  (92.3%)62.7%  lr: 0.004435  loss: 0.001396  eta: <1min   tot: 0h8m17s  (92.5%)65.9%  lr: 0.004074  loss: 0.001383  eta: <1min   tot: 0h8m20s  (93.2%)66.2%  lr: 0.004044  loss: 0.001383  eta: <1min   tot: 0h8m21s  (93.2%)%  lr: 0.004044  loss: 0.001383  eta: <1min   tot: 0h8m21s  (93.3%)68.1%  lr: 0.003824  loss: 0.001382  eta: <1min   tot: 0h8m22s  (93.6%)72.5%  lr: 0.003363  loss: 0.001383  eta: <1min   tot: 0h8m27s  (94.5%)77.1%  lr: 0.002753  loss: 0.001379  eta: <1min   tot: 0h8m31s  (95.4%)77.3%  lr: 0.002743  loss: 0.001377  eta: <1min   tot: 0h8m32s  (95.5%)  eta: <1min   tot: 0h8m34s  (95.9%)80.4%  lr: 0.002483  loss: 0.001377  eta: <1min   tot: 0h8m35s  (96.1%)80.5%  lr: 0.002453  loss: 0.001377  eta: <1min   tot: 0h8m35s  (96.1%)82.2%  lr: 0.002322  loss: 0.001381  eta: <1min   tot: 0h8m36s  (96.4%)88.4%  lr: 0.001732  loss: 0.001383  eta: <1min   tot: 0h8m42s  (97.7%)88.7%  lr: 0.001712  loss: 0.001382  eta: <1min   tot: 0h8m43s  (97.7%)89.8%  lr: 0.001572  loss: 0.001383  eta: <1min   tot: 0h8m44s  (98.0%)92.5%  lr: 0.001331  loss: 0.001380  eta: <1min   tot: 0h8m46s  (98.5%)92.9%  lr: 0.001271  loss: 0.001382  eta: <1min   tot: 0h8m47s  (98.6%)93.4%  lr: 0.001161  loss: 0.001380  eta: <1min   tot: 0h8m48s  (98.7%)95.7%  lr: 0.001021  loss: 0.001382  eta: <1min   tot: 0h8m50s  (99.1%)%  lr: 0.000851  loss: 0.001384  eta: <1min   tot: 0h8m51s  (99.5%)98.9%  lr: 0.000701  loss: 0.001378  eta: <1min   tot: 0h8m53s  (99.8%)99.6%  lr: 0.000681  loss: 0.001379  eta: <1min   tot: 0h8m53s  (99.9%)\n",
      " ---+++                Epoch    4 Train error : 0.00136827 +++--- ���\n",
      "Saving model to file : star_space_embeddings\n",
      "Saving model in tsv format : star_space_embeddings.tsv\n"
     ]
    }
   ],
   "source": [
    "######### TRAINING HAPPENING HERE #############\n",
    "!starspace train -trainFile data/prepared_train.tsv -model star_space_embeddings -trainMode 3 -adagrad true -ngrams 1 -epoch 5 -dim 100 -similarity \"cosine\" -minCount 2 -verbose true -fileFormat labelDoc -negSearchLimit 10 -lr 0.05 -thread 4\n"
   ]
  },
  {
   "cell_type": "markdown",
   "metadata": {
    "collapsed": true
   },
   "source": [
    "And now we can compare the new embeddings with the previous ones. You can find trained word vectors in the file *[model_file_name].tsv*. Upload the embeddings from StarSpace into a dict. "
   ]
  },
  {
   "cell_type": "code",
   "execution_count": 66,
   "metadata": {},
   "outputs": [],
   "source": [
    "star_space_dict = {} ######### YOUR CODE HERE #############\n",
    "with open(\"star_space_embeddings.tsv\") as f:\n",
    "    for line in f:\n",
    "        line = line.split(\"\\t\")\n",
    "        token = line[0]\n",
    "        embedding = line[1:]\n",
    "        embedding = np.asarray(embedding).astype(np.float32)     \n",
    "        star_space_dict[token] = embedding      \n",
    "starspace_embeddings = star_space_dict"
   ]
  },
  {
   "cell_type": "code",
   "execution_count": 71,
   "metadata": {},
   "outputs": [
    {
     "name": "stderr",
     "output_type": "stream",
     "text": [
      "/usr/local/lib/python3.5/dist-packages/ipykernel_launcher.py:17: RuntimeWarning: invalid value encountered in double_scalars\n"
     ]
    }
   ],
   "source": [
    "ss_prepared_ranking = []\n",
    "for line in prepared_validation:\n",
    "    q, *ex = line\n",
    "    ranks = rank_candidates(q, ex, starspace_embeddings, 100)\n",
    "    ss_prepared_ranking.append([r[0] for r in ranks].index(0) + 1)"
   ]
  },
  {
   "cell_type": "code",
   "execution_count": 72,
   "metadata": {},
   "outputs": [
    {
     "name": "stdout",
     "output_type": "stream",
     "text": [
      "DCG@   1: 0.531 | Hits@   1: 0.531\n",
      "DCG@   5: 0.627 | Hits@   5: 0.709\n",
      "DCG@  10: 0.643 | Hits@  10: 0.757\n",
      "DCG@ 100: 0.670 | Hits@ 100: 0.888\n",
      "DCG@ 500: 0.683 | Hits@ 500: 0.984\n",
      "DCG@1000: 0.684 | Hits@1000: 1.000\n"
     ]
    }
   ],
   "source": [
    "for k in [1, 5, 10, 100, 500, 1000]:\n",
    "    print(\"DCG@%4d: %.3f | Hits@%4d: %.3f\" % (k, dcg_score(ss_prepared_ranking, k), \n",
    "                                               k, hits_count(ss_prepared_ranking, k)))"
   ]
  },
  {
   "cell_type": "markdown",
   "metadata": {},
   "source": [
    "Due to training for the particular task with the supervised data, you should expect to obtain a higher quality than for the previous approach. In additiion, despite the fact that StarSpace's trained vectors have a smaller dimension than word2vec's, it provides better results in this task."
   ]
  },
  {
   "cell_type": "markdown",
   "metadata": {},
   "source": [
    "**Task 5 (StarSpaceRanks).** For each question from prepared *test.tsv* submit the ranks of the candidates for trained representation."
   ]
  },
  {
   "cell_type": "code",
   "execution_count": 74,
   "metadata": {},
   "outputs": [
    {
     "name": "stderr",
     "output_type": "stream",
     "text": [
      "/usr/local/lib/python3.5/dist-packages/ipykernel_launcher.py:17: RuntimeWarning: invalid value encountered in double_scalars\n"
     ]
    },
    {
     "name": "stdout",
     "output_type": "stream",
     "text": [
      "Current answer for task StarSpaceRanks is: 93\t86\t28\t17\t10\t66\t77\t56\t97\t68\t14\t18\t39\t29\t95\t89\t3\t49\t23\t69\t64\t20\t9\t94\t84\t57\t79\t80\t11\t1\t36\t24\t75\t58\t8...\n"
     ]
    }
   ],
   "source": [
    "starspace_ranks_results = []\n",
    "prepared_test_data = 'data/prepared_test.tsv' ######### YOUR CODE HERE #############\n",
    "for line in open(prepared_test_data):\n",
    "    q, *ex = line.strip().split('\\t')\n",
    "    ranks = rank_candidates(q, ex, starspace_embeddings, 100)\n",
    "    ranked_candidates = [r[0] for r in ranks]\n",
    "    starspace_ranks_results.append([ranked_candidates.index(i) + 1 for i in range(len(ranked_candidates))])\n",
    "    \n",
    "grader.submit_tag('StarSpaceRanks', matrix_to_string(starspace_ranks_results))"
   ]
  },
  {
   "cell_type": "markdown",
   "metadata": {},
   "source": [
    "### Authorization & Submission\n",
    "To submit assignment parts to Cousera platform, please, enter your e-mail and token into variables below. You can generate token on this programming assignment page. <b>Note:</b> Token expires 30 minutes after generation."
   ]
  },
  {
   "cell_type": "code",
   "execution_count": 75,
   "metadata": {},
   "outputs": [
    {
     "name": "stdout",
     "output_type": "stream",
     "text": [
      "You want to submit these parts:\n",
      "Task Question2Vec: 0.019293891059\n",
      "-0.0287272135417\n",
      "0.0460561116536\n",
      "0.0852593315972\n",
      "0.0243055555556\n",
      "-0.0729031032986\n",
      "0.0...\n",
      "Task HitsCount: 1.0\n",
      "0.5\n",
      "1.0\n",
      "0.5\n",
      "1.0\n",
      "0.3333333333333333\n",
      "0.6666666666666666\n",
      "1.0\n",
      "0.1\n",
      "0.2\n",
      "0.30000000000000004\n",
      "0.4\n",
      "0.5\n",
      "0....\n",
      "Task DCGScore: 1.0\n",
      "0.5\n",
      "0.815464876786\n",
      "0.5\n",
      "0.815464876786\n",
      "0.333333333333\n",
      "0.54364325119\n",
      "0.710309917857\n",
      "0.1\n",
      "0.16309297...\n",
      "Task W2VTokenizedRanks: 95\t94\t7\t9\t64\t37\t32\t93\t24\t100\t98\t17\t60\t6\t97\t49\t70\t38\t42\t96\t30\t21\t2\t65\t67\t45\t27\t26\t57\t62\t11\t88\t56\t66\t7...\n",
      "Task StarSpaceRanks: 93\t86\t28\t17\t10\t66\t77\t56\t97\t68\t14\t18\t39\t29\t95\t89\t3\t49\t23\t69\t64\t20\t9\t94\t84\t57\t79\t80\t11\t1\t36\t24\t75\t58\t8...\n"
     ]
    }
   ],
   "source": [
    "STUDENT_EMAIL ='bhavikaj@umich.edu' # EMAIL \n",
    "STUDENT_TOKEN = '4uv2VLEYZ9WlqRpp'# TOKEN \n",
    "grader.status()"
   ]
  },
  {
   "cell_type": "markdown",
   "metadata": {},
   "source": [
    "If you want to submit these answers, run cell below"
   ]
  },
  {
   "cell_type": "code",
   "execution_count": 76,
   "metadata": {},
   "outputs": [
    {
     "name": "stdout",
     "output_type": "stream",
     "text": [
      "Submitted to Coursera platform. See results on assignment page!\n"
     ]
    }
   ],
   "source": [
    "grader.submit(STUDENT_EMAIL, STUDENT_TOKEN)"
   ]
  },
  {
   "cell_type": "code",
   "execution_count": null,
   "metadata": {},
   "outputs": [],
   "source": [
    "doc = \"Pooh rubbed his nose again, and said that he hadn't thought of that. And then he brightened again, and said that, if it were raining already, the Heffalump would be looking at the sky wondering if it would clear up, and so he wouldn't see the Very Deep Pit until he was half-way down\"\n",
    "words = doc.split(\" \")\n",
    "print(len(words))\n",
    "tokens = []\n",
    "for word in words:\n",
    "    word = word.lower()\n",
    "    if word[-1] ==\".\" or word[-1] == \",\":\n",
    "        word = word[:-1]\n",
    "    if word not in tokens:\n",
    "        tokens.append(word)\n",
    "print(tokens)\n",
    "print(len(tokens))\n",
    "3/len(tokens)\n"
   ]
  },
  {
   "cell_type": "code",
   "execution_count": null,
   "metadata": {},
   "outputs": [],
   "source": [
    "4/54"
   ]
  },
  {
   "cell_type": "code",
   "execution_count": null,
   "metadata": {},
   "outputs": [],
   "source": []
  }
 ],
 "metadata": {
  "kernelspec": {
   "display_name": "Python 3",
   "language": "python",
   "name": "python3"
  },
  "language_info": {
   "codemirror_mode": {
    "name": "ipython",
    "version": 3
   },
   "file_extension": ".py",
   "mimetype": "text/x-python",
   "name": "python",
   "nbconvert_exporter": "python",
   "pygments_lexer": "ipython3",
   "version": "3.5.2"
  }
 },
 "nbformat": 4,
 "nbformat_minor": 2
}
